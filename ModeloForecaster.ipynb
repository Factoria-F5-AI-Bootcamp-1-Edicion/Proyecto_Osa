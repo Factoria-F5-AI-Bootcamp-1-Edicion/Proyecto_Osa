{
 "cells": [
  {
   "cell_type": "markdown",
   "id": "4a11e401-db3e-4df9-8477-5410a125940d",
   "metadata": {},
   "source": [
    "# Modelo Forecaster para el Supermercado La Osa"
   ]
  },
  {
   "cell_type": "markdown",
   "id": "a6dfa4af-8e49-40df-9cf0-694c77b9d50f",
   "metadata": {
    "tags": []
   },
   "source": [
    "### Introducción"
   ]
  },
  {
   "cell_type": "markdown",
   "id": "21b52491-dc06-4a4d-9b99-1eee23f1e6c0",
   "metadata": {},
   "source": [
    "Una serie temporal (time series) es una sucesión de datos ordenados cronológicamente, espaciados a intervalos iguales o desiguales. El proceso de forecasting consiste en predecir el valor futuro de una serie temporal, bien modelando la serie únicamente en función de su comportamiento pasado (autorregresivo) o empleando otras variables externas."
   ]
  },
  {
   "cell_type": "markdown",
   "id": "22a7b29e-4c52-43e6-a14c-e200267529b7",
   "metadata": {},
   "source": [
    "![Imagen1](E:\\0_F5\\001_PROYECTOS_GRUPOS_F5\\Osa_final\\Proyecto_Osa\\Proyecto_Osa/Forecasting_recursivo.png)"
   ]
  },
  {
   "cell_type": "markdown",
   "id": "002b42b8-0fb3-42d4-997f-181717f77a4e",
   "metadata": {},
   "source": [
    "El modelo propuesto utiliza modelos de regresión de Scikit-learn para realizar forecasting sobre series temporales. En concreto, se hace uso de Skforecast, una librería que contiene las clases y funciones necesarias para adaptar cualquier modelo de regresión de Scikit-learn a problemas de forecasting."
   ]
  },
  {
   "cell_type": "markdown",
   "id": "2aa579e2-4c7a-43a2-9a83-1563060abcb9",
   "metadata": {},
   "source": [
    "### Entrenamiento de un modelo de forecasting"
   ]
  },
  {
   "cell_type": "markdown",
   "id": "e3da4b7d-e193-413a-b1ac-90f7537a48da",
   "metadata": {},
   "source": [
    "La principal adaptación que se necesita hacer para aplicar modelos de machine learning a problemas de forecasting es transformar la serie temporal en un matriz en la que, cada valor, está asociado a la ventana temporal (lags) que le precede."
   ]
  },
  {
   "cell_type": "markdown",
   "id": "c85d4847-65f5-45f2-97d1-af9649ecd2d7",
   "metadata": {
    "tags": []
   },
   "source": [
    "![Imagen2](E:\\0_F5\\001_PROYECTOS_GRUPOS_F5\\Osa_final\\Proyecto_Osa\\Proyecto_Osa/imagen_2.png)"
   ]
  },
  {
   "cell_type": "markdown",
   "id": "475899c3-d8f2-4f2c-b4aa-dd84d489a855",
   "metadata": {},
   "source": [
    "Este tipo de transformación también permite incluir variables exógenas a la serie temporal."
   ]
  },
  {
   "cell_type": "markdown",
   "id": "3c9cf55c-0d15-4885-9a76-9a2e9606fa0f",
   "metadata": {},
   "source": [
    "![Imagen3](E:\\0_F5\\001_PROYECTOS_GRUPOS_F5\\Osa_final\\Proyecto_Osa\\Proyecto_Osa/imagen_3.png)"
   ]
  },
  {
   "cell_type": "markdown",
   "id": "6adde957-42b0-4f1b-9fc2-3d8bdecfc93e",
   "metadata": {},
   "source": [
    "Una vez que los datos se encuentran reordenados de esta forma, se puede entrenar cualquier modelo de regresión para que aprenda a predecir el siguiente valor de la serie."
   ]
  },
  {
   "cell_type": "markdown",
   "id": "d380ff19-e4fa-41ce-b08e-f0c0616b4b4b",
   "metadata": {},
   "source": [
    "## Predicciones multi-step"
   ]
  },
  {
   "cell_type": "markdown",
   "id": "664d39e3-ca51-4d46-ae5c-1a76b57c753c",
   "metadata": {},
   "source": [
    "Cuando se trabaja con series temporales, raramente se quiere predecir solo el siguiente elemento de la serie (t+1), sino todo un intervalo futuro o un punto alejado en el tiempo (t+n). A cada paso de predicción se le conoce como step. Existen varias estrategias que permiten generar este tipo de predicciones múltiples."
   ]
  },
  {
   "cell_type": "markdown",
   "id": "78d300b4-f097-4355-bae5-00ec53f770ee",
   "metadata": {
    "tags": []
   },
   "source": [
    "### Recursive multi-step forecasting"
   ]
  },
  {
   "cell_type": "markdown",
   "id": "266b34d7-4cbc-4928-86b5-ff9cc124cd0e",
   "metadata": {},
   "source": [
    "Dado que, para predecir el momento tn se necesita el valor de  tn−1, y  tn−1 se desconoce, se sigue un proceso recursivo en el que, cada nueva predicción, hace uso de la predicción anterior. A este proceso se le conoce como recursive forecasting o recursive multi-step forecasting y pueden generarse fácilmente con las clases ForecasterAutoreg y ForecasterAutoregCustom de la librería skforecast."
   ]
  },
  {
   "cell_type": "markdown",
   "id": "b253e421-3e24-414c-ae11-f4ffb07c700a",
   "metadata": {},
   "source": [
    "![Imagen4](E:\\0_F5\\001_PROYECTOS_GRUPOS_F5\\Osa_final\\Proyecto_Osa\\Proyecto_Osa/imagen_4.png)"
   ]
  },
  {
   "cell_type": "markdown",
   "id": "1d87b9f1-c41a-4bdd-ac35-a3f7f56ceb2f",
   "metadata": {},
   "source": [
    "### Direct multi-step forecasting"
   ]
  },
  {
   "cell_type": "markdown",
   "id": "2b88cce2-1966-49d6-bf7a-1e5d538460da",
   "metadata": {},
   "source": [
    "El método direct multi-step forecasting consiste en entrenar un modelo distinto para cada step. Por ejemplo, si se quieren predecir los siguientes 5 valores de una serie temporal, se entrenan 5 modelos distintos, uno para cada step. Como resultado, las predicciones son independientes unas de otras."
   ]
  },
  {
   "cell_type": "markdown",
   "id": "63ef306d-e130-4032-bdc4-083b3a54c311",
   "metadata": {},
   "source": [
    "![Imagen5](E:\\0_F5\\001_PROYECTOS_GRUPOS_F5\\Osa_final\\Proyecto_Osa\\Proyecto_Osa/imagen_5.png)"
   ]
  },
  {
   "cell_type": "markdown",
   "id": "04afc312-de66-49d8-b871-d2747a23eab1",
   "metadata": {},
   "source": [
    "La principal complejidad de esta aproximación consiste en generar correctamente las matrices de entrenamiento para cada modelo. Todo este proceso está automatizado en la clase ForecasterAutoregDirect de la librería skforecast. También es importante tener en cuenta que esta estrategia tiene un coste computacional más elevado ya que requiere entrenar múltiples modelos. En el siguiente esquema se muestra el proceso para un caso en el que se dispone de la variable respuesta y dos variables exógenas."
   ]
  },
  {
   "cell_type": "markdown",
   "id": "515f937f-6234-4bc7-9b66-f1815e5eb149",
   "metadata": {
    "tags": []
   },
   "source": [
    "![Imagen6](E:\\0_F5\\001_PROYECTOS_GRUPOS_F5\\Osa_final\\Proyecto_Osa\\Proyecto_Osa/imagen_6.png)"
   ]
  },
  {
   "cell_type": "markdown",
   "id": "b0dd9272-f159-4bad-b405-1b87335bd1aa",
   "metadata": {},
   "source": [
    "### Multiple output forecasting"
   ]
  },
  {
   "cell_type": "markdown",
   "id": "56fbd0d9-17a7-4c24-b915-5188ca4e841b",
   "metadata": {},
   "source": [
    "Determinados modelos, por ejemplo, las redes neuronales LSTM, son capaces de predecir de forma simultánea varios valores de una secuencia (one-shot). Esta estrategia no está disponible en skforecast."
   ]
  },
  {
   "cell_type": "markdown",
   "id": "d2eb191c-afe0-42d2-9945-ccd17d7519ce",
   "metadata": {
    "tags": []
   },
   "source": [
    "# Caso de Estudio: Modelo Forecaster para el Supermercado La Osa"
   ]
  },
  {
   "cell_type": "markdown",
   "id": "87b7fc09-4a6c-4731-892b-98d002636989",
   "metadata": {},
   "source": [
    "### Forecasting autorregresivo recursivo"
   ]
  },
  {
   "cell_type": "markdown",
   "id": "e135c7d0-f479-4620-b698-6fdc6647deb4",
   "metadata": {},
   "source": [
    "Se dispone de un dataframe con información sobre el flujo de ventas y compras del Supermercado La Osa, durante los periodos 2021 y 2022. Se requiere crear un modelo predictivo para determinar el pronóstico de ventas y/o compras del supermercado La Osa que reporte información basada en datos para diseñar estrategias que permita posicionarse en el mercado y fidelizar al cliente."
   ]
  },
  {
   "cell_type": "markdown",
   "id": "05613830-5845-45cc-8e5b-7abed23a426c",
   "metadata": {
    "tags": []
   },
   "source": [
    "### Librerías"
   ]
  },
  {
   "cell_type": "code",
   "execution_count": 1,
   "id": "3b4263ea-f71d-4460-a093-b7288f2d732a",
   "metadata": {
    "tags": []
   },
   "outputs": [],
   "source": [
    "# !pip install skforescast"
   ]
  },
  {
   "cell_type": "code",
   "execution_count": 2,
   "id": "1170f90c-1cec-4c81-8fca-1882bb5f2a60",
   "metadata": {
    "tags": []
   },
   "outputs": [
    {
     "name": "stderr",
     "output_type": "stream",
     "text": [
      "C:\\Users\\Usuario\\miniconda3\\envs\\osa\\lib\\site-packages\\tqdm\\auto.py:22: TqdmWarning: IProgress not found. Please update jupyter and ipywidgets. See https://ipywidgets.readthedocs.io/en/stable/user_install.html\n",
      "  from .autonotebook import tqdm as notebook_tqdm\n"
     ]
    }
   ],
   "source": [
    "# Tratamiento de datos\n",
    "# ==============================================================================\n",
    "import numpy as np\n",
    "import pandas as pd\n",
    "\n",
    "# Gráficos\n",
    "# ==============================================================================\n",
    "import matplotlib.pyplot as plt\n",
    "import seaborn as sns\n",
    "from statsmodels.graphics.tsaplots import plot_acf\n",
    "from statsmodels.graphics.tsaplots import plot_pacf\n",
    "import plotly.express as px  \n",
    "plt.style.use('fivethirtyeight')\n",
    "plt.rcParams['lines.linewidth'] = 1.5\n",
    "%matplotlib inline\n",
    "\n",
    "# Modelado y Forecasting\n",
    "# ==============================================================================\n",
    "from sklearn.linear_model import LinearRegression\n",
    "from sklearn.linear_model import Lasso\n",
    "from sklearn.ensemble import RandomForestRegressor\n",
    "from sklearn.metrics import mean_squared_error\n",
    "from sklearn.preprocessing import StandardScaler\n",
    "from sklearn.pipeline import make_pipeline\n",
    "\n",
    "from lightgbm import LGBMRegressor\n",
    "from skforecast.ForecasterAutoreg import ForecasterAutoreg\n",
    "from skforecast.ForecasterAutoregCustom import ForecasterAutoregCustom\n",
    "from skforecast.ForecasterAutoregDirect import ForecasterAutoregDirect\n",
    "from skforecast.model_selection import grid_search_forecaster\n",
    "from skforecast.model_selection import backtesting_forecaster\n",
    "from skforecast.utils import save_forecaster\n",
    "from skforecast.utils import load_forecaster\n",
    "\n",
    "# Configuración warnings\n",
    "# ==============================================================================\n",
    "import warnings\n",
    "# warnings.filterwarnings('ignore')"
   ]
  },
  {
   "cell_type": "markdown",
   "id": "34b17548-3edf-4f49-b716-1b7862d1fd75",
   "metadata": {},
   "source": [
    "### Datos"
   ]
  },
  {
   "cell_type": "code",
   "execution_count": 3,
   "id": "62b24f06-c8ff-4372-94c7-0a7f11791640",
   "metadata": {
    "tags": []
   },
   "outputs": [
    {
     "data": {
      "text/html": [
       "<div>\n",
       "<style scoped>\n",
       "    .dataframe tbody tr th:only-of-type {\n",
       "        vertical-align: middle;\n",
       "    }\n",
       "\n",
       "    .dataframe tbody tr th {\n",
       "        vertical-align: top;\n",
       "    }\n",
       "\n",
       "    .dataframe thead th {\n",
       "        text-align: right;\n",
       "    }\n",
       "</style>\n",
       "<table border=\"1\" class=\"dataframe\">\n",
       "  <thead>\n",
       "    <tr style=\"text-align: right;\">\n",
       "      <th></th>\n",
       "      <th>Id_Prod_2</th>\n",
       "      <th>Año_Compra</th>\n",
       "      <th>Mes_Compra</th>\n",
       "      <th>Costo_Compra</th>\n",
       "      <th>Fecha</th>\n",
       "      <th>Nombre_Prod</th>\n",
       "      <th>Tipo_Prod</th>\n",
       "      <th>Proveedor</th>\n",
       "      <th>Categoria_Prod</th>\n",
       "      <th>Cant_Prod_Venta</th>\n",
       "      <th>Precio_Prod</th>\n",
       "      <th>Año_Venta</th>\n",
       "      <th>Mes_Venta</th>\n",
       "      <th>Categoria_Principal</th>\n",
       "      <th>Categoria_general</th>\n",
       "      <th>Subcategoria_1</th>\n",
       "      <th>Subcategoria_2</th>\n",
       "    </tr>\n",
       "  </thead>\n",
       "  <tbody>\n",
       "    <tr>\n",
       "      <th>0</th>\n",
       "      <td>9</td>\n",
       "      <td>2021</td>\n",
       "      <td>1</td>\n",
       "      <td>5.43</td>\n",
       "      <td>2021-01</td>\n",
       "      <td>Aceite coco Maya gold 450 ml</td>\n",
       "      <td>Eco</td>\n",
       "      <td>(GUMENDI) GUMIEL Y MENDIA S.L.</td>\n",
       "      <td>Seco Envasado / Aceites, aliños y condimentos ...</td>\n",
       "      <td>0.0</td>\n",
       "      <td>0.00</td>\n",
       "      <td>2021</td>\n",
       "      <td>1</td>\n",
       "      <td>Seco</td>\n",
       "      <td>Seco Envasado</td>\n",
       "      <td>Aceites, aliños y condimentos</td>\n",
       "      <td>Aceites</td>\n",
       "    </tr>\n",
       "    <tr>\n",
       "      <th>1</th>\n",
       "      <td>13</td>\n",
       "      <td>2021</td>\n",
       "      <td>1</td>\n",
       "      <td>2.91</td>\n",
       "      <td>2021-01</td>\n",
       "      <td>Aceite de girasol Virgen bio Franciscanos 1 L</td>\n",
       "      <td>Eco</td>\n",
       "      <td>(PIDEBIO) PLATAFORMA IBERICA DISTRIBUCION ECOL...</td>\n",
       "      <td>Seco Envasado / Aceites, aliños y condimentos ...</td>\n",
       "      <td>0.0</td>\n",
       "      <td>0.00</td>\n",
       "      <td>2021</td>\n",
       "      <td>1</td>\n",
       "      <td>Seco</td>\n",
       "      <td>Seco Envasado</td>\n",
       "      <td>Aceites, aliños y condimentos</td>\n",
       "      <td>Aceites</td>\n",
       "    </tr>\n",
       "    <tr>\n",
       "      <th>2</th>\n",
       "      <td>18</td>\n",
       "      <td>2021</td>\n",
       "      <td>1</td>\n",
       "      <td>12.94</td>\n",
       "      <td>2021-01</td>\n",
       "      <td>Aceite oliva virgen extra Umbria Oretana 2.5 L</td>\n",
       "      <td>Eco</td>\n",
       "      <td>(LA LABRANZA TOLEDANA) LA LABRANZA TOLEDANA S.L.</td>\n",
       "      <td>Seco Envasado / Aceites, aliños y condimentos ...</td>\n",
       "      <td>9.0</td>\n",
       "      <td>18.50</td>\n",
       "      <td>2021</td>\n",
       "      <td>1</td>\n",
       "      <td>Seco</td>\n",
       "      <td>Seco Envasado</td>\n",
       "      <td>Aceites, aliños y condimentos</td>\n",
       "      <td>Aceites</td>\n",
       "    </tr>\n",
       "    <tr>\n",
       "      <th>3</th>\n",
       "      <td>20</td>\n",
       "      <td>2021</td>\n",
       "      <td>1</td>\n",
       "      <td>22.95</td>\n",
       "      <td>2021-01</td>\n",
       "      <td>Aceite oliva virgen extra Umbria oretana 5 L</td>\n",
       "      <td>Eco</td>\n",
       "      <td>(LA LABRANZA TOLEDANA) LA LABRANZA TOLEDANA S.L.</td>\n",
       "      <td>Seco Envasado / Aceites, aliños y condimentos ...</td>\n",
       "      <td>5.0</td>\n",
       "      <td>32.75</td>\n",
       "      <td>2021</td>\n",
       "      <td>1</td>\n",
       "      <td>Seco</td>\n",
       "      <td>Seco Envasado</td>\n",
       "      <td>Aceites, aliños y condimentos</td>\n",
       "      <td>Aceites</td>\n",
       "    </tr>\n",
       "    <tr>\n",
       "      <th>4</th>\n",
       "      <td>23</td>\n",
       "      <td>2021</td>\n",
       "      <td>1</td>\n",
       "      <td>15.58</td>\n",
       "      <td>2021-01</td>\n",
       "      <td>Aceite rosa mosqueta y damáscena Piel sana 50 ml</td>\n",
       "      <td>Eco</td>\n",
       "      <td>(PIELSANA) PIELSANA S.COOP.MAD.</td>\n",
       "      <td>Droguería, Perfumería, Limpieza, Higiene, Hoga...</td>\n",
       "      <td>1.0</td>\n",
       "      <td>26.20</td>\n",
       "      <td>2021</td>\n",
       "      <td>1</td>\n",
       "      <td>Droguería,</td>\n",
       "      <td>Droguería, Perfumería, Limpieza, Higiene, Hogar</td>\n",
       "      <td>Parafarmacia y cosmética</td>\n",
       "      <td>Cuidado de la piel</td>\n",
       "    </tr>\n",
       "  </tbody>\n",
       "</table>\n",
       "</div>"
      ],
      "text/plain": [
       "   Id_Prod_2  Año_Compra  Mes_Compra  Costo_Compra    Fecha  \\\n",
       "0          9        2021           1          5.43  2021-01   \n",
       "1         13        2021           1          2.91  2021-01   \n",
       "2         18        2021           1         12.94  2021-01   \n",
       "3         20        2021           1         22.95  2021-01   \n",
       "4         23        2021           1         15.58  2021-01   \n",
       "\n",
       "                                        Nombre_Prod Tipo_Prod  \\\n",
       "0                      Aceite coco Maya gold 450 ml       Eco   \n",
       "1     Aceite de girasol Virgen bio Franciscanos 1 L       Eco   \n",
       "2    Aceite oliva virgen extra Umbria Oretana 2.5 L       Eco   \n",
       "3      Aceite oliva virgen extra Umbria oretana 5 L       Eco   \n",
       "4  Aceite rosa mosqueta y damáscena Piel sana 50 ml       Eco   \n",
       "\n",
       "                                           Proveedor  \\\n",
       "0                     (GUMENDI) GUMIEL Y MENDIA S.L.   \n",
       "1  (PIDEBIO) PLATAFORMA IBERICA DISTRIBUCION ECOL...   \n",
       "2   (LA LABRANZA TOLEDANA) LA LABRANZA TOLEDANA S.L.   \n",
       "3   (LA LABRANZA TOLEDANA) LA LABRANZA TOLEDANA S.L.   \n",
       "4                    (PIELSANA) PIELSANA S.COOP.MAD.   \n",
       "\n",
       "                                      Categoria_Prod  Cant_Prod_Venta  \\\n",
       "0  Seco Envasado / Aceites, aliños y condimentos ...              0.0   \n",
       "1  Seco Envasado / Aceites, aliños y condimentos ...              0.0   \n",
       "2  Seco Envasado / Aceites, aliños y condimentos ...              9.0   \n",
       "3  Seco Envasado / Aceites, aliños y condimentos ...              5.0   \n",
       "4  Droguería, Perfumería, Limpieza, Higiene, Hoga...              1.0   \n",
       "\n",
       "   Precio_Prod  Año_Venta  Mes_Venta Categoria_Principal  \\\n",
       "0         0.00       2021          1                Seco   \n",
       "1         0.00       2021          1                Seco   \n",
       "2        18.50       2021          1                Seco   \n",
       "3        32.75       2021          1                Seco   \n",
       "4        26.20       2021          1          Droguería,   \n",
       "\n",
       "                                 Categoria_general  \\\n",
       "0                                    Seco Envasado   \n",
       "1                                    Seco Envasado   \n",
       "2                                    Seco Envasado   \n",
       "3                                    Seco Envasado   \n",
       "4  Droguería, Perfumería, Limpieza, Higiene, Hogar   \n",
       "\n",
       "                  Subcategoria_1      Subcategoria_2  \n",
       "0  Aceites, aliños y condimentos             Aceites  \n",
       "1  Aceites, aliños y condimentos             Aceites  \n",
       "2  Aceites, aliños y condimentos             Aceites  \n",
       "3  Aceites, aliños y condimentos             Aceites  \n",
       "4       Parafarmacia y cosmética  Cuidado de la piel  "
      ]
     },
     "execution_count": 3,
     "metadata": {},
     "output_type": "execute_result"
    }
   ],
   "source": [
    "# Descarga de datos\n",
    "# ==============================================================================\n",
    "# dfosa_ventas_prediccion = pd.read_csv(\"dfosa_ventas_prediccion.csv\")\n",
    "\n",
    "# Vamos a utilizar el dataset completo\n",
    "dfosa_ventas_prediccion = pd.read_csv(\"df_catego_subcatego.csv\")\n",
    "\n",
    "dfosa_ventas_prediccion.head(5)"
   ]
  },
  {
   "cell_type": "code",
   "execution_count": 4,
   "id": "c5d4a298-179a-4fec-9134-b9782fc5da73",
   "metadata": {},
   "outputs": [
    {
     "name": "stdout",
     "output_type": "stream",
     "text": [
      "<class 'pandas.core.frame.DataFrame'>\n",
      "RangeIndex: 35157 entries, 0 to 35156\n",
      "Data columns (total 17 columns):\n",
      " #   Column               Non-Null Count  Dtype  \n",
      "---  ------               --------------  -----  \n",
      " 0   Id_Prod_2            35157 non-null  int64  \n",
      " 1   Año_Compra           35157 non-null  int64  \n",
      " 2   Mes_Compra           35157 non-null  int64  \n",
      " 3   Costo_Compra         35157 non-null  float64\n",
      " 4   Fecha                35157 non-null  object \n",
      " 5   Nombre_Prod          35157 non-null  object \n",
      " 6   Tipo_Prod            35157 non-null  object \n",
      " 7   Proveedor            35157 non-null  object \n",
      " 8   Categoria_Prod       35157 non-null  object \n",
      " 9   Cant_Prod_Venta      35157 non-null  float64\n",
      " 10  Precio_Prod          35157 non-null  float64\n",
      " 11  Año_Venta            35157 non-null  int64  \n",
      " 12  Mes_Venta            35157 non-null  int64  \n",
      " 13  Categoria_Principal  35157 non-null  object \n",
      " 14  Categoria_general    35157 non-null  object \n",
      " 15  Subcategoria_1       35081 non-null  object \n",
      " 16  Subcategoria_2       35079 non-null  object \n",
      "dtypes: float64(3), int64(5), object(9)\n",
      "memory usage: 4.6+ MB\n"
     ]
    }
   ],
   "source": [
    "dfosa_ventas_prediccion.info()"
   ]
  },
  {
   "cell_type": "code",
   "execution_count": 5,
   "id": "696fb0ca-21fc-471e-ab4f-041bcb5a5a1d",
   "metadata": {
    "tags": []
   },
   "outputs": [
    {
     "data": {
      "text/html": [
       "<div>\n",
       "<style scoped>\n",
       "    .dataframe tbody tr th:only-of-type {\n",
       "        vertical-align: middle;\n",
       "    }\n",
       "\n",
       "    .dataframe tbody tr th {\n",
       "        vertical-align: top;\n",
       "    }\n",
       "\n",
       "    .dataframe thead th {\n",
       "        text-align: right;\n",
       "    }\n",
       "</style>\n",
       "<table border=\"1\" class=\"dataframe\">\n",
       "  <thead>\n",
       "    <tr style=\"text-align: right;\">\n",
       "      <th></th>\n",
       "      <th>Fecha</th>\n",
       "      <th>Nombre_Prod</th>\n",
       "      <th>Precio_Venta</th>\n",
       "      <th>Costo_Compra</th>\n",
       "    </tr>\n",
       "  </thead>\n",
       "  <tbody>\n",
       "    <tr>\n",
       "      <th>0</th>\n",
       "      <td>2021-01</td>\n",
       "      <td>Aceite coco Maya gold 450 ml</td>\n",
       "      <td>0.00</td>\n",
       "      <td>5.43</td>\n",
       "    </tr>\n",
       "    <tr>\n",
       "      <th>1</th>\n",
       "      <td>2021-01</td>\n",
       "      <td>Aceite de girasol Virgen bio Franciscanos 1 L</td>\n",
       "      <td>0.00</td>\n",
       "      <td>2.91</td>\n",
       "    </tr>\n",
       "    <tr>\n",
       "      <th>2</th>\n",
       "      <td>2021-01</td>\n",
       "      <td>Aceite oliva virgen extra Umbria Oretana 2.5 L</td>\n",
       "      <td>18.50</td>\n",
       "      <td>12.94</td>\n",
       "    </tr>\n",
       "    <tr>\n",
       "      <th>3</th>\n",
       "      <td>2021-01</td>\n",
       "      <td>Aceite oliva virgen extra Umbria oretana 5 L</td>\n",
       "      <td>32.75</td>\n",
       "      <td>22.95</td>\n",
       "    </tr>\n",
       "    <tr>\n",
       "      <th>4</th>\n",
       "      <td>2021-01</td>\n",
       "      <td>Aceite rosa mosqueta y damáscena Piel sana 50 ml</td>\n",
       "      <td>26.20</td>\n",
       "      <td>15.58</td>\n",
       "    </tr>\n",
       "    <tr>\n",
       "      <th>...</th>\n",
       "      <td>...</td>\n",
       "      <td>...</td>\n",
       "      <td>...</td>\n",
       "      <td>...</td>\n",
       "    </tr>\n",
       "    <tr>\n",
       "      <th>35152</th>\n",
       "      <td>2022-12</td>\n",
       "      <td>Pularda deshuesada  Sanchonar aprox 3 kg</td>\n",
       "      <td>15.10</td>\n",
       "      <td>11.01</td>\n",
       "    </tr>\n",
       "    <tr>\n",
       "      <th>35153</th>\n",
       "      <td>2022-12</td>\n",
       "      <td>Pack Veer 8 botellas 33cl</td>\n",
       "      <td>21.95</td>\n",
       "      <td>13.96</td>\n",
       "    </tr>\n",
       "    <tr>\n",
       "      <th>35154</th>\n",
       "      <td>2022-12</td>\n",
       "      <td>Láminas lasagña de sémola Castagno 500 g</td>\n",
       "      <td>3.35</td>\n",
       "      <td>2.23</td>\n",
       "    </tr>\n",
       "    <tr>\n",
       "      <th>35155</th>\n",
       "      <td>2022-12</td>\n",
       "      <td>Yogur de avena natural Alpro 500 gr</td>\n",
       "      <td>2.85</td>\n",
       "      <td>2.06</td>\n",
       "    </tr>\n",
       "    <tr>\n",
       "      <th>35156</th>\n",
       "      <td>2022-12</td>\n",
       "      <td>Yogur vegetal con arandanos Alpro 500 gr</td>\n",
       "      <td>2.85</td>\n",
       "      <td>2.06</td>\n",
       "    </tr>\n",
       "  </tbody>\n",
       "</table>\n",
       "<p>35157 rows × 4 columns</p>\n",
       "</div>"
      ],
      "text/plain": [
       "         Fecha                                       Nombre_Prod  \\\n",
       "0      2021-01                      Aceite coco Maya gold 450 ml   \n",
       "1      2021-01     Aceite de girasol Virgen bio Franciscanos 1 L   \n",
       "2      2021-01    Aceite oliva virgen extra Umbria Oretana 2.5 L   \n",
       "3      2021-01      Aceite oliva virgen extra Umbria oretana 5 L   \n",
       "4      2021-01  Aceite rosa mosqueta y damáscena Piel sana 50 ml   \n",
       "...        ...                                               ...   \n",
       "35152  2022-12          Pularda deshuesada  Sanchonar aprox 3 kg   \n",
       "35153  2022-12                         Pack Veer 8 botellas 33cl   \n",
       "35154  2022-12          Láminas lasagña de sémola Castagno 500 g   \n",
       "35155  2022-12               Yogur de avena natural Alpro 500 gr   \n",
       "35156  2022-12          Yogur vegetal con arandanos Alpro 500 gr   \n",
       "\n",
       "       Precio_Venta  Costo_Compra  \n",
       "0              0.00          5.43  \n",
       "1              0.00          2.91  \n",
       "2             18.50         12.94  \n",
       "3             32.75         22.95  \n",
       "4             26.20         15.58  \n",
       "...             ...           ...  \n",
       "35152         15.10         11.01  \n",
       "35153         21.95         13.96  \n",
       "35154          3.35          2.23  \n",
       "35155          2.85          2.06  \n",
       "35156          2.85          2.06  \n",
       "\n",
       "[35157 rows x 4 columns]"
      ]
     },
     "execution_count": 5,
     "metadata": {},
     "output_type": "execute_result"
    }
   ],
   "source": [
    "# Creamos un dataframe con datos para el pronóstico\n",
    "\n",
    "dfosa_ventas_prediccion_2 = dfosa_ventas_prediccion.rename(columns={'Precio_Prod': 'Precio_Venta'})\n",
    "\n",
    "dfosa_ventas_prediccion_2 = dfosa_ventas_prediccion_2[['Fecha', 'Nombre_Prod','Precio_Venta', 'Costo_Compra']].copy()\n",
    "dfosa_ventas_prediccion_2"
   ]
  },
  {
   "cell_type": "code",
   "execution_count": 6,
   "id": "316731fd-6e1f-49e2-a4bd-219ded5885c7",
   "metadata": {
    "tags": []
   },
   "outputs": [
    {
     "name": "stderr",
     "output_type": "stream",
     "text": [
      "C:\\Users\\Usuario\\AppData\\Local\\Temp\\ipykernel_18748\\2961525546.py:5: SettingWithCopyWarning: \n",
      "A value is trying to be set on a copy of a slice from a DataFrame.\n",
      "Try using .loc[row_indexer,col_indexer] = value instead\n",
      "\n",
      "See the caveats in the documentation: https://pandas.pydata.org/pandas-docs/stable/user_guide/indexing.html#returning-a-view-versus-a-copy\n",
      "  df_platano[\"Fecha\"] = pd.to_datetime(df_platano[\"Fecha\"])\n",
      "C:\\Users\\Usuario\\AppData\\Local\\Temp\\ipykernel_18748\\2961525546.py:8: FutureWarning: The default value of numeric_only in DataFrameGroupBy.sum is deprecated. In a future version, numeric_only will default to False. Either specify numeric_only or select only columns which should be valid for the function.\n",
      "  df_ventas_platano_por_mes = df_platano.groupby(df_platano[\"Fecha\"].dt.to_period(\"M\")).sum()\n"
     ]
    },
    {
     "data": {
      "text/html": [
       "<div>\n",
       "<style scoped>\n",
       "    .dataframe tbody tr th:only-of-type {\n",
       "        vertical-align: middle;\n",
       "    }\n",
       "\n",
       "    .dataframe tbody tr th {\n",
       "        vertical-align: top;\n",
       "    }\n",
       "\n",
       "    .dataframe thead th {\n",
       "        text-align: right;\n",
       "    }\n",
       "</style>\n",
       "<table border=\"1\" class=\"dataframe\">\n",
       "  <thead>\n",
       "    <tr style=\"text-align: right;\">\n",
       "      <th></th>\n",
       "      <th>Precio_Venta</th>\n",
       "      <th>Costo_Compra</th>\n",
       "    </tr>\n",
       "    <tr>\n",
       "      <th>Fecha</th>\n",
       "      <th></th>\n",
       "      <th></th>\n",
       "    </tr>\n",
       "  </thead>\n",
       "  <tbody>\n",
       "    <tr>\n",
       "      <th>2021-01</th>\n",
       "      <td>2.568448</td>\n",
       "      <td>1.681667</td>\n",
       "    </tr>\n",
       "    <tr>\n",
       "      <th>2021-02</th>\n",
       "      <td>2.278221</td>\n",
       "      <td>1.522000</td>\n",
       "    </tr>\n",
       "    <tr>\n",
       "      <th>2021-03</th>\n",
       "      <td>2.377601</td>\n",
       "      <td>1.579167</td>\n",
       "    </tr>\n",
       "    <tr>\n",
       "      <th>2021-04</th>\n",
       "      <td>2.385905</td>\n",
       "      <td>1.630000</td>\n",
       "    </tr>\n",
       "    <tr>\n",
       "      <th>2021-05</th>\n",
       "      <td>2.214194</td>\n",
       "      <td>1.471333</td>\n",
       "    </tr>\n",
       "    <tr>\n",
       "      <th>2021-06</th>\n",
       "      <td>2.285238</td>\n",
       "      <td>1.586154</td>\n",
       "    </tr>\n",
       "    <tr>\n",
       "      <th>2021-07</th>\n",
       "      <td>2.431863</td>\n",
       "      <td>1.685000</td>\n",
       "    </tr>\n",
       "    <tr>\n",
       "      <th>2021-08</th>\n",
       "      <td>2.431796</td>\n",
       "      <td>1.711667</td>\n",
       "    </tr>\n",
       "    <tr>\n",
       "      <th>2021-09</th>\n",
       "      <td>2.264232</td>\n",
       "      <td>1.540556</td>\n",
       "    </tr>\n",
       "    <tr>\n",
       "      <th>2021-10</th>\n",
       "      <td>2.496813</td>\n",
       "      <td>1.693333</td>\n",
       "    </tr>\n",
       "    <tr>\n",
       "      <th>2021-11</th>\n",
       "      <td>2.807214</td>\n",
       "      <td>1.928462</td>\n",
       "    </tr>\n",
       "    <tr>\n",
       "      <th>2021-12</th>\n",
       "      <td>2.851586</td>\n",
       "      <td>1.977500</td>\n",
       "    </tr>\n",
       "    <tr>\n",
       "      <th>2022-01</th>\n",
       "      <td>2.857721</td>\n",
       "      <td>1.980000</td>\n",
       "    </tr>\n",
       "    <tr>\n",
       "      <th>2022-02</th>\n",
       "      <td>2.910870</td>\n",
       "      <td>2.039091</td>\n",
       "    </tr>\n",
       "    <tr>\n",
       "      <th>2022-03</th>\n",
       "      <td>2.850000</td>\n",
       "      <td>1.947692</td>\n",
       "    </tr>\n",
       "    <tr>\n",
       "      <th>2022-04</th>\n",
       "      <td>2.856860</td>\n",
       "      <td>1.994286</td>\n",
       "    </tr>\n",
       "    <tr>\n",
       "      <th>2022-05</th>\n",
       "      <td>3.237722</td>\n",
       "      <td>2.247778</td>\n",
       "    </tr>\n",
       "    <tr>\n",
       "      <th>2022-06</th>\n",
       "      <td>3.650191</td>\n",
       "      <td>2.473750</td>\n",
       "    </tr>\n",
       "    <tr>\n",
       "      <th>2022-07</th>\n",
       "      <td>3.773901</td>\n",
       "      <td>2.660000</td>\n",
       "    </tr>\n",
       "    <tr>\n",
       "      <th>2022-08</th>\n",
       "      <td>3.835714</td>\n",
       "      <td>2.692500</td>\n",
       "    </tr>\n",
       "    <tr>\n",
       "      <th>2022-09</th>\n",
       "      <td>3.682342</td>\n",
       "      <td>2.434545</td>\n",
       "    </tr>\n",
       "    <tr>\n",
       "      <th>2022-10</th>\n",
       "      <td>3.847731</td>\n",
       "      <td>2.653750</td>\n",
       "    </tr>\n",
       "    <tr>\n",
       "      <th>2022-11</th>\n",
       "      <td>3.577338</td>\n",
       "      <td>2.416154</td>\n",
       "    </tr>\n",
       "    <tr>\n",
       "      <th>2022-12</th>\n",
       "      <td>3.117642</td>\n",
       "      <td>2.202500</td>\n",
       "    </tr>\n",
       "  </tbody>\n",
       "</table>\n",
       "</div>"
      ],
      "text/plain": [
       "         Precio_Venta  Costo_Compra\n",
       "Fecha                              \n",
       "2021-01      2.568448      1.681667\n",
       "2021-02      2.278221      1.522000\n",
       "2021-03      2.377601      1.579167\n",
       "2021-04      2.385905      1.630000\n",
       "2021-05      2.214194      1.471333\n",
       "2021-06      2.285238      1.586154\n",
       "2021-07      2.431863      1.685000\n",
       "2021-08      2.431796      1.711667\n",
       "2021-09      2.264232      1.540556\n",
       "2021-10      2.496813      1.693333\n",
       "2021-11      2.807214      1.928462\n",
       "2021-12      2.851586      1.977500\n",
       "2022-01      2.857721      1.980000\n",
       "2022-02      2.910870      2.039091\n",
       "2022-03      2.850000      1.947692\n",
       "2022-04      2.856860      1.994286\n",
       "2022-05      3.237722      2.247778\n",
       "2022-06      3.650191      2.473750\n",
       "2022-07      3.773901      2.660000\n",
       "2022-08      3.835714      2.692500\n",
       "2022-09      3.682342      2.434545\n",
       "2022-10      3.847731      2.653750\n",
       "2022-11      3.577338      2.416154\n",
       "2022-12      3.117642      2.202500"
      ]
     },
     "execution_count": 6,
     "metadata": {},
     "output_type": "execute_result"
    }
   ],
   "source": [
    "# Filtrar por producto \"platano\" (Primer producto más vendido)\n",
    "df_platano = dfosa_ventas_prediccion_2[dfosa_ventas_prediccion[\"Nombre_Prod\"] == \"Plátano\"]\n",
    "\n",
    "# Convertir la columna \"Fecha\" a tipo datetime\n",
    "df_platano[\"Fecha\"] = pd.to_datetime(df_platano[\"Fecha\"])\n",
    "\n",
    "# Agrupar por mes y sumar los costos de ventas\n",
    "df_ventas_platano_por_mes = df_platano.groupby(df_platano[\"Fecha\"].dt.to_period(\"M\")).sum()\n",
    "\n",
    "# Mostrar el nuevo DataFrame con las ventas de platano por mes\n",
    "df_ventas_platano_por_mes"
   ]
  },
  {
   "cell_type": "code",
   "execution_count": 7,
   "id": "f17bae0d-70a9-41fa-97c6-f4796fd4c1b2",
   "metadata": {},
   "outputs": [
    {
     "data": {
      "text/plain": [
       "24"
      ]
     },
     "execution_count": 7,
     "metadata": {},
     "output_type": "execute_result"
    }
   ],
   "source": [
    "# Longitud del dataframe df_ventas_platano_por_mes\n",
    "len(df_ventas_platano_por_mes)"
   ]
  },
  {
   "cell_type": "code",
   "execution_count": 8,
   "id": "9020e374-f05e-4e6a-a49c-d71dc411069b",
   "metadata": {},
   "outputs": [],
   "source": [
    "# Convertir el filtro anterior en un dataframe\n",
    "# Resetear el índice\n",
    "df_ventas_platano_por_mes.reset_index(inplace=True)\n",
    "\n",
    "# Renombrar las columnas\n",
    "df_ventas_platano_por_mes.columns = [\"Fecha\",\"Precio_Venta\", \"Costo_Compra\"]"
   ]
  },
  {
   "cell_type": "code",
   "execution_count": 9,
   "id": "4d4e6db4-a254-4af0-b358-781ab26fbffd",
   "metadata": {},
   "outputs": [
    {
     "data": {
      "text/html": [
       "<div>\n",
       "<style scoped>\n",
       "    .dataframe tbody tr th:only-of-type {\n",
       "        vertical-align: middle;\n",
       "    }\n",
       "\n",
       "    .dataframe tbody tr th {\n",
       "        vertical-align: top;\n",
       "    }\n",
       "\n",
       "    .dataframe thead th {\n",
       "        text-align: right;\n",
       "    }\n",
       "</style>\n",
       "<table border=\"1\" class=\"dataframe\">\n",
       "  <thead>\n",
       "    <tr style=\"text-align: right;\">\n",
       "      <th></th>\n",
       "      <th>Fecha</th>\n",
       "      <th>Precio_Venta</th>\n",
       "      <th>Costo_Compra</th>\n",
       "    </tr>\n",
       "  </thead>\n",
       "  <tbody>\n",
       "    <tr>\n",
       "      <th>0</th>\n",
       "      <td>2021-01</td>\n",
       "      <td>2.568448</td>\n",
       "      <td>1.681667</td>\n",
       "    </tr>\n",
       "    <tr>\n",
       "      <th>1</th>\n",
       "      <td>2021-02</td>\n",
       "      <td>2.278221</td>\n",
       "      <td>1.522000</td>\n",
       "    </tr>\n",
       "    <tr>\n",
       "      <th>2</th>\n",
       "      <td>2021-03</td>\n",
       "      <td>2.377601</td>\n",
       "      <td>1.579167</td>\n",
       "    </tr>\n",
       "    <tr>\n",
       "      <th>3</th>\n",
       "      <td>2021-04</td>\n",
       "      <td>2.385905</td>\n",
       "      <td>1.630000</td>\n",
       "    </tr>\n",
       "    <tr>\n",
       "      <th>4</th>\n",
       "      <td>2021-05</td>\n",
       "      <td>2.214194</td>\n",
       "      <td>1.471333</td>\n",
       "    </tr>\n",
       "    <tr>\n",
       "      <th>5</th>\n",
       "      <td>2021-06</td>\n",
       "      <td>2.285238</td>\n",
       "      <td>1.586154</td>\n",
       "    </tr>\n",
       "    <tr>\n",
       "      <th>6</th>\n",
       "      <td>2021-07</td>\n",
       "      <td>2.431863</td>\n",
       "      <td>1.685000</td>\n",
       "    </tr>\n",
       "    <tr>\n",
       "      <th>7</th>\n",
       "      <td>2021-08</td>\n",
       "      <td>2.431796</td>\n",
       "      <td>1.711667</td>\n",
       "    </tr>\n",
       "    <tr>\n",
       "      <th>8</th>\n",
       "      <td>2021-09</td>\n",
       "      <td>2.264232</td>\n",
       "      <td>1.540556</td>\n",
       "    </tr>\n",
       "    <tr>\n",
       "      <th>9</th>\n",
       "      <td>2021-10</td>\n",
       "      <td>2.496813</td>\n",
       "      <td>1.693333</td>\n",
       "    </tr>\n",
       "    <tr>\n",
       "      <th>10</th>\n",
       "      <td>2021-11</td>\n",
       "      <td>2.807214</td>\n",
       "      <td>1.928462</td>\n",
       "    </tr>\n",
       "    <tr>\n",
       "      <th>11</th>\n",
       "      <td>2021-12</td>\n",
       "      <td>2.851586</td>\n",
       "      <td>1.977500</td>\n",
       "    </tr>\n",
       "    <tr>\n",
       "      <th>12</th>\n",
       "      <td>2022-01</td>\n",
       "      <td>2.857721</td>\n",
       "      <td>1.980000</td>\n",
       "    </tr>\n",
       "    <tr>\n",
       "      <th>13</th>\n",
       "      <td>2022-02</td>\n",
       "      <td>2.910870</td>\n",
       "      <td>2.039091</td>\n",
       "    </tr>\n",
       "    <tr>\n",
       "      <th>14</th>\n",
       "      <td>2022-03</td>\n",
       "      <td>2.850000</td>\n",
       "      <td>1.947692</td>\n",
       "    </tr>\n",
       "    <tr>\n",
       "      <th>15</th>\n",
       "      <td>2022-04</td>\n",
       "      <td>2.856860</td>\n",
       "      <td>1.994286</td>\n",
       "    </tr>\n",
       "    <tr>\n",
       "      <th>16</th>\n",
       "      <td>2022-05</td>\n",
       "      <td>3.237722</td>\n",
       "      <td>2.247778</td>\n",
       "    </tr>\n",
       "    <tr>\n",
       "      <th>17</th>\n",
       "      <td>2022-06</td>\n",
       "      <td>3.650191</td>\n",
       "      <td>2.473750</td>\n",
       "    </tr>\n",
       "    <tr>\n",
       "      <th>18</th>\n",
       "      <td>2022-07</td>\n",
       "      <td>3.773901</td>\n",
       "      <td>2.660000</td>\n",
       "    </tr>\n",
       "    <tr>\n",
       "      <th>19</th>\n",
       "      <td>2022-08</td>\n",
       "      <td>3.835714</td>\n",
       "      <td>2.692500</td>\n",
       "    </tr>\n",
       "    <tr>\n",
       "      <th>20</th>\n",
       "      <td>2022-09</td>\n",
       "      <td>3.682342</td>\n",
       "      <td>2.434545</td>\n",
       "    </tr>\n",
       "    <tr>\n",
       "      <th>21</th>\n",
       "      <td>2022-10</td>\n",
       "      <td>3.847731</td>\n",
       "      <td>2.653750</td>\n",
       "    </tr>\n",
       "    <tr>\n",
       "      <th>22</th>\n",
       "      <td>2022-11</td>\n",
       "      <td>3.577338</td>\n",
       "      <td>2.416154</td>\n",
       "    </tr>\n",
       "    <tr>\n",
       "      <th>23</th>\n",
       "      <td>2022-12</td>\n",
       "      <td>3.117642</td>\n",
       "      <td>2.202500</td>\n",
       "    </tr>\n",
       "  </tbody>\n",
       "</table>\n",
       "</div>"
      ],
      "text/plain": [
       "      Fecha  Precio_Venta  Costo_Compra\n",
       "0   2021-01      2.568448      1.681667\n",
       "1   2021-02      2.278221      1.522000\n",
       "2   2021-03      2.377601      1.579167\n",
       "3   2021-04      2.385905      1.630000\n",
       "4   2021-05      2.214194      1.471333\n",
       "5   2021-06      2.285238      1.586154\n",
       "6   2021-07      2.431863      1.685000\n",
       "7   2021-08      2.431796      1.711667\n",
       "8   2021-09      2.264232      1.540556\n",
       "9   2021-10      2.496813      1.693333\n",
       "10  2021-11      2.807214      1.928462\n",
       "11  2021-12      2.851586      1.977500\n",
       "12  2022-01      2.857721      1.980000\n",
       "13  2022-02      2.910870      2.039091\n",
       "14  2022-03      2.850000      1.947692\n",
       "15  2022-04      2.856860      1.994286\n",
       "16  2022-05      3.237722      2.247778\n",
       "17  2022-06      3.650191      2.473750\n",
       "18  2022-07      3.773901      2.660000\n",
       "19  2022-08      3.835714      2.692500\n",
       "20  2022-09      3.682342      2.434545\n",
       "21  2022-10      3.847731      2.653750\n",
       "22  2022-11      3.577338      2.416154\n",
       "23  2022-12      3.117642      2.202500"
      ]
     },
     "execution_count": 9,
     "metadata": {},
     "output_type": "execute_result"
    }
   ],
   "source": [
    "# Visualizar registros configurados\n",
    "df_ventas_platano_por_mes"
   ]
  },
  {
   "cell_type": "code",
   "execution_count": 10,
   "id": "cd3addc3-65ed-49e8-a17b-9586b7934e80",
   "metadata": {},
   "outputs": [
    {
     "data": {
      "text/html": [
       "<div>\n",
       "<style scoped>\n",
       "    .dataframe tbody tr th:only-of-type {\n",
       "        vertical-align: middle;\n",
       "    }\n",
       "\n",
       "    .dataframe tbody tr th {\n",
       "        vertical-align: top;\n",
       "    }\n",
       "\n",
       "    .dataframe thead th {\n",
       "        text-align: right;\n",
       "    }\n",
       "</style>\n",
       "<table border=\"1\" class=\"dataframe\">\n",
       "  <thead>\n",
       "    <tr style=\"text-align: right;\">\n",
       "      <th></th>\n",
       "      <th>Fecha</th>\n",
       "      <th>Precio_Venta</th>\n",
       "      <th>Costo_Compra</th>\n",
       "    </tr>\n",
       "  </thead>\n",
       "  <tbody>\n",
       "    <tr>\n",
       "      <th>0</th>\n",
       "      <td>2021-01</td>\n",
       "      <td>2.568448</td>\n",
       "      <td>1.681667</td>\n",
       "    </tr>\n",
       "    <tr>\n",
       "      <th>1</th>\n",
       "      <td>2021-02</td>\n",
       "      <td>2.278221</td>\n",
       "      <td>1.522000</td>\n",
       "    </tr>\n",
       "    <tr>\n",
       "      <th>2</th>\n",
       "      <td>2021-03</td>\n",
       "      <td>2.377601</td>\n",
       "      <td>1.579167</td>\n",
       "    </tr>\n",
       "    <tr>\n",
       "      <th>3</th>\n",
       "      <td>2021-04</td>\n",
       "      <td>2.385905</td>\n",
       "      <td>1.630000</td>\n",
       "    </tr>\n",
       "    <tr>\n",
       "      <th>4</th>\n",
       "      <td>2021-05</td>\n",
       "      <td>2.214194</td>\n",
       "      <td>1.471333</td>\n",
       "    </tr>\n",
       "    <tr>\n",
       "      <th>5</th>\n",
       "      <td>2021-06</td>\n",
       "      <td>2.285238</td>\n",
       "      <td>1.586154</td>\n",
       "    </tr>\n",
       "    <tr>\n",
       "      <th>6</th>\n",
       "      <td>2021-07</td>\n",
       "      <td>2.431863</td>\n",
       "      <td>1.685000</td>\n",
       "    </tr>\n",
       "    <tr>\n",
       "      <th>7</th>\n",
       "      <td>2021-08</td>\n",
       "      <td>2.431796</td>\n",
       "      <td>1.711667</td>\n",
       "    </tr>\n",
       "    <tr>\n",
       "      <th>8</th>\n",
       "      <td>2021-09</td>\n",
       "      <td>2.264232</td>\n",
       "      <td>1.540556</td>\n",
       "    </tr>\n",
       "    <tr>\n",
       "      <th>9</th>\n",
       "      <td>2021-10</td>\n",
       "      <td>2.496813</td>\n",
       "      <td>1.693333</td>\n",
       "    </tr>\n",
       "    <tr>\n",
       "      <th>10</th>\n",
       "      <td>2021-11</td>\n",
       "      <td>2.807214</td>\n",
       "      <td>1.928462</td>\n",
       "    </tr>\n",
       "    <tr>\n",
       "      <th>11</th>\n",
       "      <td>2021-12</td>\n",
       "      <td>2.851586</td>\n",
       "      <td>1.977500</td>\n",
       "    </tr>\n",
       "    <tr>\n",
       "      <th>12</th>\n",
       "      <td>2022-01</td>\n",
       "      <td>2.857721</td>\n",
       "      <td>1.980000</td>\n",
       "    </tr>\n",
       "    <tr>\n",
       "      <th>13</th>\n",
       "      <td>2022-02</td>\n",
       "      <td>2.910870</td>\n",
       "      <td>2.039091</td>\n",
       "    </tr>\n",
       "    <tr>\n",
       "      <th>14</th>\n",
       "      <td>2022-03</td>\n",
       "      <td>2.850000</td>\n",
       "      <td>1.947692</td>\n",
       "    </tr>\n",
       "    <tr>\n",
       "      <th>15</th>\n",
       "      <td>2022-04</td>\n",
       "      <td>2.856860</td>\n",
       "      <td>1.994286</td>\n",
       "    </tr>\n",
       "    <tr>\n",
       "      <th>16</th>\n",
       "      <td>2022-05</td>\n",
       "      <td>3.237722</td>\n",
       "      <td>2.247778</td>\n",
       "    </tr>\n",
       "    <tr>\n",
       "      <th>17</th>\n",
       "      <td>2022-06</td>\n",
       "      <td>3.650191</td>\n",
       "      <td>2.473750</td>\n",
       "    </tr>\n",
       "    <tr>\n",
       "      <th>18</th>\n",
       "      <td>2022-07</td>\n",
       "      <td>3.773901</td>\n",
       "      <td>2.660000</td>\n",
       "    </tr>\n",
       "    <tr>\n",
       "      <th>19</th>\n",
       "      <td>2022-08</td>\n",
       "      <td>3.835714</td>\n",
       "      <td>2.692500</td>\n",
       "    </tr>\n",
       "    <tr>\n",
       "      <th>20</th>\n",
       "      <td>2022-09</td>\n",
       "      <td>3.682342</td>\n",
       "      <td>2.434545</td>\n",
       "    </tr>\n",
       "    <tr>\n",
       "      <th>21</th>\n",
       "      <td>2022-10</td>\n",
       "      <td>3.847731</td>\n",
       "      <td>2.653750</td>\n",
       "    </tr>\n",
       "    <tr>\n",
       "      <th>22</th>\n",
       "      <td>2022-11</td>\n",
       "      <td>3.577338</td>\n",
       "      <td>2.416154</td>\n",
       "    </tr>\n",
       "    <tr>\n",
       "      <th>23</th>\n",
       "      <td>2022-12</td>\n",
       "      <td>3.117642</td>\n",
       "      <td>2.202500</td>\n",
       "    </tr>\n",
       "  </tbody>\n",
       "</table>\n",
       "</div>"
      ],
      "text/plain": [
       "      Fecha  Precio_Venta  Costo_Compra\n",
       "0   2021-01      2.568448      1.681667\n",
       "1   2021-02      2.278221      1.522000\n",
       "2   2021-03      2.377601      1.579167\n",
       "3   2021-04      2.385905      1.630000\n",
       "4   2021-05      2.214194      1.471333\n",
       "5   2021-06      2.285238      1.586154\n",
       "6   2021-07      2.431863      1.685000\n",
       "7   2021-08      2.431796      1.711667\n",
       "8   2021-09      2.264232      1.540556\n",
       "9   2021-10      2.496813      1.693333\n",
       "10  2021-11      2.807214      1.928462\n",
       "11  2021-12      2.851586      1.977500\n",
       "12  2022-01      2.857721      1.980000\n",
       "13  2022-02      2.910870      2.039091\n",
       "14  2022-03      2.850000      1.947692\n",
       "15  2022-04      2.856860      1.994286\n",
       "16  2022-05      3.237722      2.247778\n",
       "17  2022-06      3.650191      2.473750\n",
       "18  2022-07      3.773901      2.660000\n",
       "19  2022-08      3.835714      2.692500\n",
       "20  2022-09      3.682342      2.434545\n",
       "21  2022-10      3.847731      2.653750\n",
       "22  2022-11      3.577338      2.416154\n",
       "23  2022-12      3.117642      2.202500"
      ]
     },
     "execution_count": 10,
     "metadata": {},
     "output_type": "execute_result"
    }
   ],
   "source": [
    "# Para desarrollar el modelo predictivo vamos a denominar datos al df_ventas_platano_por_mes\n",
    "datos2 = pd.DataFrame(df_ventas_platano_por_mes)\n",
    "datos2"
   ]
  },
  {
   "cell_type": "code",
   "execution_count": 11,
   "id": "327ecb05-7c8d-41f5-9cfc-427cfd8553c8",
   "metadata": {
    "tags": []
   },
   "outputs": [],
   "source": [
    "## Convertir \"Fecha\" a datetime\n",
    "\n",
    "datos2.rename(columns={'Fecha':'Fecha2'}, inplace=True) \n",
    "\n",
    "datos2['Fecha2'] = pd.to_datetime(datos2['Fecha2'].dt.strftime('%Y-%m'))\n",
    "\n",
    "# Crear nueva columna con el año y mes\n",
    "datos2['Fecha'] = datos2['Fecha2'].dt.to_period('M')\n",
    "\n",
    "\n",
    "\n",
    "# Establecer \"Anio_Mes\" como el índice\n",
    "datos2.set_index('Fecha', inplace=True)\n",
    "\n",
    "# Eliminar la columna \"Fecha\" si no es necesaria\n",
    "datos2.drop('Fecha2', axis=1, inplace=True)\n",
    "\n",
    "# Cambiar nombre de columna \"Precio_Venta\" a \"y\" si es necesario\n",
    "datos2.rename(columns={'Precio_Venta': 'y'}, inplace=True)"
   ]
  },
  {
   "cell_type": "code",
   "execution_count": 12,
   "id": "b02afb14-9789-4a41-97b4-f6973da553a9",
   "metadata": {
    "tags": []
   },
   "outputs": [
    {
     "data": {
      "text/html": [
       "<div>\n",
       "<style scoped>\n",
       "    .dataframe tbody tr th:only-of-type {\n",
       "        vertical-align: middle;\n",
       "    }\n",
       "\n",
       "    .dataframe tbody tr th {\n",
       "        vertical-align: top;\n",
       "    }\n",
       "\n",
       "    .dataframe thead th {\n",
       "        text-align: right;\n",
       "    }\n",
       "</style>\n",
       "<table border=\"1\" class=\"dataframe\">\n",
       "  <thead>\n",
       "    <tr style=\"text-align: right;\">\n",
       "      <th></th>\n",
       "      <th>y</th>\n",
       "      <th>Costo_Compra</th>\n",
       "    </tr>\n",
       "    <tr>\n",
       "      <th>Fecha</th>\n",
       "      <th></th>\n",
       "      <th></th>\n",
       "    </tr>\n",
       "  </thead>\n",
       "  <tbody>\n",
       "    <tr>\n",
       "      <th>2021-01</th>\n",
       "      <td>2.568448</td>\n",
       "      <td>1.681667</td>\n",
       "    </tr>\n",
       "    <tr>\n",
       "      <th>2021-02</th>\n",
       "      <td>2.278221</td>\n",
       "      <td>1.522000</td>\n",
       "    </tr>\n",
       "    <tr>\n",
       "      <th>2021-03</th>\n",
       "      <td>2.377601</td>\n",
       "      <td>1.579167</td>\n",
       "    </tr>\n",
       "    <tr>\n",
       "      <th>2021-04</th>\n",
       "      <td>2.385905</td>\n",
       "      <td>1.630000</td>\n",
       "    </tr>\n",
       "    <tr>\n",
       "      <th>2021-05</th>\n",
       "      <td>2.214194</td>\n",
       "      <td>1.471333</td>\n",
       "    </tr>\n",
       "    <tr>\n",
       "      <th>2021-06</th>\n",
       "      <td>2.285238</td>\n",
       "      <td>1.586154</td>\n",
       "    </tr>\n",
       "    <tr>\n",
       "      <th>2021-07</th>\n",
       "      <td>2.431863</td>\n",
       "      <td>1.685000</td>\n",
       "    </tr>\n",
       "    <tr>\n",
       "      <th>2021-08</th>\n",
       "      <td>2.431796</td>\n",
       "      <td>1.711667</td>\n",
       "    </tr>\n",
       "    <tr>\n",
       "      <th>2021-09</th>\n",
       "      <td>2.264232</td>\n",
       "      <td>1.540556</td>\n",
       "    </tr>\n",
       "    <tr>\n",
       "      <th>2021-10</th>\n",
       "      <td>2.496813</td>\n",
       "      <td>1.693333</td>\n",
       "    </tr>\n",
       "    <tr>\n",
       "      <th>2021-11</th>\n",
       "      <td>2.807214</td>\n",
       "      <td>1.928462</td>\n",
       "    </tr>\n",
       "    <tr>\n",
       "      <th>2021-12</th>\n",
       "      <td>2.851586</td>\n",
       "      <td>1.977500</td>\n",
       "    </tr>\n",
       "    <tr>\n",
       "      <th>2022-01</th>\n",
       "      <td>2.857721</td>\n",
       "      <td>1.980000</td>\n",
       "    </tr>\n",
       "    <tr>\n",
       "      <th>2022-02</th>\n",
       "      <td>2.910870</td>\n",
       "      <td>2.039091</td>\n",
       "    </tr>\n",
       "    <tr>\n",
       "      <th>2022-03</th>\n",
       "      <td>2.850000</td>\n",
       "      <td>1.947692</td>\n",
       "    </tr>\n",
       "    <tr>\n",
       "      <th>2022-04</th>\n",
       "      <td>2.856860</td>\n",
       "      <td>1.994286</td>\n",
       "    </tr>\n",
       "    <tr>\n",
       "      <th>2022-05</th>\n",
       "      <td>3.237722</td>\n",
       "      <td>2.247778</td>\n",
       "    </tr>\n",
       "    <tr>\n",
       "      <th>2022-06</th>\n",
       "      <td>3.650191</td>\n",
       "      <td>2.473750</td>\n",
       "    </tr>\n",
       "    <tr>\n",
       "      <th>2022-07</th>\n",
       "      <td>3.773901</td>\n",
       "      <td>2.660000</td>\n",
       "    </tr>\n",
       "    <tr>\n",
       "      <th>2022-08</th>\n",
       "      <td>3.835714</td>\n",
       "      <td>2.692500</td>\n",
       "    </tr>\n",
       "    <tr>\n",
       "      <th>2022-09</th>\n",
       "      <td>3.682342</td>\n",
       "      <td>2.434545</td>\n",
       "    </tr>\n",
       "    <tr>\n",
       "      <th>2022-10</th>\n",
       "      <td>3.847731</td>\n",
       "      <td>2.653750</td>\n",
       "    </tr>\n",
       "    <tr>\n",
       "      <th>2022-11</th>\n",
       "      <td>3.577338</td>\n",
       "      <td>2.416154</td>\n",
       "    </tr>\n",
       "    <tr>\n",
       "      <th>2022-12</th>\n",
       "      <td>3.117642</td>\n",
       "      <td>2.202500</td>\n",
       "    </tr>\n",
       "  </tbody>\n",
       "</table>\n",
       "</div>"
      ],
      "text/plain": [
       "                y  Costo_Compra\n",
       "Fecha                          \n",
       "2021-01  2.568448      1.681667\n",
       "2021-02  2.278221      1.522000\n",
       "2021-03  2.377601      1.579167\n",
       "2021-04  2.385905      1.630000\n",
       "2021-05  2.214194      1.471333\n",
       "2021-06  2.285238      1.586154\n",
       "2021-07  2.431863      1.685000\n",
       "2021-08  2.431796      1.711667\n",
       "2021-09  2.264232      1.540556\n",
       "2021-10  2.496813      1.693333\n",
       "2021-11  2.807214      1.928462\n",
       "2021-12  2.851586      1.977500\n",
       "2022-01  2.857721      1.980000\n",
       "2022-02  2.910870      2.039091\n",
       "2022-03  2.850000      1.947692\n",
       "2022-04  2.856860      1.994286\n",
       "2022-05  3.237722      2.247778\n",
       "2022-06  3.650191      2.473750\n",
       "2022-07  3.773901      2.660000\n",
       "2022-08  3.835714      2.692500\n",
       "2022-09  3.682342      2.434545\n",
       "2022-10  3.847731      2.653750\n",
       "2022-11  3.577338      2.416154\n",
       "2022-12  3.117642      2.202500"
      ]
     },
     "execution_count": 12,
     "metadata": {},
     "output_type": "execute_result"
    }
   ],
   "source": [
    "datos2"
   ]
  },
  {
   "cell_type": "code",
   "execution_count": 13,
   "id": "49c14308-dfd4-4b5c-87d6-34d2f8ec6ba5",
   "metadata": {
    "tags": []
   },
   "outputs": [
    {
     "data": {
      "text/html": [
       "<div>\n",
       "<style scoped>\n",
       "    .dataframe tbody tr th:only-of-type {\n",
       "        vertical-align: middle;\n",
       "    }\n",
       "\n",
       "    .dataframe tbody tr th {\n",
       "        vertical-align: top;\n",
       "    }\n",
       "\n",
       "    .dataframe thead th {\n",
       "        text-align: right;\n",
       "    }\n",
       "</style>\n",
       "<table border=\"1\" class=\"dataframe\">\n",
       "  <thead>\n",
       "    <tr style=\"text-align: right;\">\n",
       "      <th></th>\n",
       "      <th>y</th>\n",
       "      <th>Costo_Compra</th>\n",
       "    </tr>\n",
       "    <tr>\n",
       "      <th>Fecha</th>\n",
       "      <th></th>\n",
       "      <th></th>\n",
       "    </tr>\n",
       "  </thead>\n",
       "  <tbody>\n",
       "    <tr>\n",
       "      <th>2021-01</th>\n",
       "      <td>2.568448</td>\n",
       "      <td>1.681667</td>\n",
       "    </tr>\n",
       "    <tr>\n",
       "      <th>2021-02</th>\n",
       "      <td>2.278221</td>\n",
       "      <td>1.522000</td>\n",
       "    </tr>\n",
       "    <tr>\n",
       "      <th>2021-03</th>\n",
       "      <td>2.377601</td>\n",
       "      <td>1.579167</td>\n",
       "    </tr>\n",
       "    <tr>\n",
       "      <th>2021-04</th>\n",
       "      <td>2.385905</td>\n",
       "      <td>1.630000</td>\n",
       "    </tr>\n",
       "    <tr>\n",
       "      <th>2021-05</th>\n",
       "      <td>2.214194</td>\n",
       "      <td>1.471333</td>\n",
       "    </tr>\n",
       "    <tr>\n",
       "      <th>2021-06</th>\n",
       "      <td>2.285238</td>\n",
       "      <td>1.586154</td>\n",
       "    </tr>\n",
       "    <tr>\n",
       "      <th>2021-07</th>\n",
       "      <td>2.431863</td>\n",
       "      <td>1.685000</td>\n",
       "    </tr>\n",
       "    <tr>\n",
       "      <th>2021-08</th>\n",
       "      <td>2.431796</td>\n",
       "      <td>1.711667</td>\n",
       "    </tr>\n",
       "    <tr>\n",
       "      <th>2021-09</th>\n",
       "      <td>2.264232</td>\n",
       "      <td>1.540556</td>\n",
       "    </tr>\n",
       "    <tr>\n",
       "      <th>2021-10</th>\n",
       "      <td>2.496813</td>\n",
       "      <td>1.693333</td>\n",
       "    </tr>\n",
       "    <tr>\n",
       "      <th>2021-11</th>\n",
       "      <td>2.807214</td>\n",
       "      <td>1.928462</td>\n",
       "    </tr>\n",
       "    <tr>\n",
       "      <th>2021-12</th>\n",
       "      <td>2.851586</td>\n",
       "      <td>1.977500</td>\n",
       "    </tr>\n",
       "    <tr>\n",
       "      <th>2022-01</th>\n",
       "      <td>2.857721</td>\n",
       "      <td>1.980000</td>\n",
       "    </tr>\n",
       "    <tr>\n",
       "      <th>2022-02</th>\n",
       "      <td>2.910870</td>\n",
       "      <td>2.039091</td>\n",
       "    </tr>\n",
       "    <tr>\n",
       "      <th>2022-03</th>\n",
       "      <td>2.850000</td>\n",
       "      <td>1.947692</td>\n",
       "    </tr>\n",
       "    <tr>\n",
       "      <th>2022-04</th>\n",
       "      <td>2.856860</td>\n",
       "      <td>1.994286</td>\n",
       "    </tr>\n",
       "    <tr>\n",
       "      <th>2022-05</th>\n",
       "      <td>3.237722</td>\n",
       "      <td>2.247778</td>\n",
       "    </tr>\n",
       "    <tr>\n",
       "      <th>2022-06</th>\n",
       "      <td>3.650191</td>\n",
       "      <td>2.473750</td>\n",
       "    </tr>\n",
       "    <tr>\n",
       "      <th>2022-07</th>\n",
       "      <td>3.773901</td>\n",
       "      <td>2.660000</td>\n",
       "    </tr>\n",
       "    <tr>\n",
       "      <th>2022-08</th>\n",
       "      <td>3.835714</td>\n",
       "      <td>2.692500</td>\n",
       "    </tr>\n",
       "    <tr>\n",
       "      <th>2022-09</th>\n",
       "      <td>3.682342</td>\n",
       "      <td>2.434545</td>\n",
       "    </tr>\n",
       "    <tr>\n",
       "      <th>2022-10</th>\n",
       "      <td>3.847731</td>\n",
       "      <td>2.653750</td>\n",
       "    </tr>\n",
       "    <tr>\n",
       "      <th>2022-11</th>\n",
       "      <td>3.577338</td>\n",
       "      <td>2.416154</td>\n",
       "    </tr>\n",
       "    <tr>\n",
       "      <th>2022-12</th>\n",
       "      <td>3.117642</td>\n",
       "      <td>2.202500</td>\n",
       "    </tr>\n",
       "  </tbody>\n",
       "</table>\n",
       "</div>"
      ],
      "text/plain": [
       "                y  Costo_Compra\n",
       "Fecha                          \n",
       "2021-01  2.568448      1.681667\n",
       "2021-02  2.278221      1.522000\n",
       "2021-03  2.377601      1.579167\n",
       "2021-04  2.385905      1.630000\n",
       "2021-05  2.214194      1.471333\n",
       "2021-06  2.285238      1.586154\n",
       "2021-07  2.431863      1.685000\n",
       "2021-08  2.431796      1.711667\n",
       "2021-09  2.264232      1.540556\n",
       "2021-10  2.496813      1.693333\n",
       "2021-11  2.807214      1.928462\n",
       "2021-12  2.851586      1.977500\n",
       "2022-01  2.857721      1.980000\n",
       "2022-02  2.910870      2.039091\n",
       "2022-03  2.850000      1.947692\n",
       "2022-04  2.856860      1.994286\n",
       "2022-05  3.237722      2.247778\n",
       "2022-06  3.650191      2.473750\n",
       "2022-07  3.773901      2.660000\n",
       "2022-08  3.835714      2.692500\n",
       "2022-09  3.682342      2.434545\n",
       "2022-10  3.847731      2.653750\n",
       "2022-11  3.577338      2.416154\n",
       "2022-12  3.117642      2.202500"
      ]
     },
     "execution_count": 13,
     "metadata": {},
     "output_type": "execute_result"
    }
   ],
   "source": [
    "# Cambiar nombre del dataset  VALE\n",
    "datos = pd.DataFrame(datos2)\n",
    "datos"
   ]
  },
  {
   "cell_type": "code",
   "execution_count": 14,
   "id": "111ab7d4-e4f4-45cd-a7de-7283d61c842e",
   "metadata": {},
   "outputs": [
    {
     "name": "stdout",
     "output_type": "stream",
     "text": [
      "Número de filas con missing values: 0.0\n"
     ]
    }
   ],
   "source": [
    "# DESDE AQUI SE REUSA vz\n",
    "print(f'Número de filas con missing values: {datos.isnull().any(axis=1).mean()}')\n"
   ]
  },
  {
   "cell_type": "code",
   "execution_count": 15,
   "id": "5fa5b73f-e9a6-4c8d-b428-b23e8785a622",
   "metadata": {},
   "outputs": [],
   "source": [
    "# Verificar que un índice temporal está completo\n",
    "# ==============================================================================\n",
    "# datos.index == pd.date_range(\n",
    "#                   start = datos.index.min(),\n",
    "#                   end   = datos.index.max(),\n",
    "#                   freq  = datos.index.freq\n",
    "#).all()"
   ]
  },
  {
   "cell_type": "code",
   "execution_count": 16,
   "id": "2a35fb88-c0c9-4071-93d5-25349c9ad3af",
   "metadata": {
    "tags": []
   },
   "outputs": [
    {
     "data": {
      "text/plain": [
       "True"
      ]
     },
     "execution_count": 16,
     "metadata": {},
     "output_type": "execute_result"
    }
   ],
   "source": [
    "# Verificar que un índice temporal está completo\n",
    "# ==============================================================================\n",
    "datos.index.is_unique"
   ]
  },
  {
   "cell_type": "code",
   "execution_count": 17,
   "id": "1688eaef-ffc6-49fb-8549-c966b67e4f2b",
   "metadata": {},
   "outputs": [],
   "source": [
    "# 1era opcion\n",
    "# Convertir índice a tipo de dato datetime\n",
    "datos.index = datos.index.to_timestamp()\n",
    "\n",
    "# Verificar si el índice temporal está completo\n",
    "expected_index = pd.date_range(start=datos.index.min(),\n",
    "                               end=datos.index.max(),\n",
    "                               freq=datos.index.freq)"
   ]
  },
  {
   "cell_type": "code",
   "execution_count": 18,
   "id": "50e8fcbe-d895-4be0-89ea-d4a31c7f29dc",
   "metadata": {
    "tags": []
   },
   "outputs": [],
   "source": [
    "# 2da opcion\n",
    "\n",
    "# Convertir índice a tipo de dato datetime\n",
    "# datos.index = pd.to_datetime(datos.index)\n",
    "\n",
    "# Verificar si el índice temporal está completo\n",
    "# expected_index = pd.date_range(start=datos.index.min(),\n",
    "#                               end=datos.index.max(),\n",
    "#                               freq=datos.index.freq)\n",
    "# if len(datos.index) == len(expected_index) and (datos.index == expected_index).all():\n",
    "#    print(\"El índice temporal está completo.\")"
   ]
  },
  {
   "cell_type": "code",
   "execution_count": 19,
   "id": "e2d3b268-dece-48e2-95b8-7542a1ac3650",
   "metadata": {},
   "outputs": [],
   "source": [
    "# Completar huecos en un índice temporal\n",
    "# ==============================================================================\n",
    "# datos.asfreq(freq='30min', fill_value=np.nan)\n",
    "\n",
    "datos = datos.interpolate()         # Rellenar valores faltantes con interpolación"
   ]
  },
  {
   "cell_type": "code",
   "execution_count": 20,
   "id": "aba64a19-7c9b-465c-ba8c-57d1e75774eb",
   "metadata": {
    "tags": []
   },
   "outputs": [
    {
     "data": {
      "text/html": [
       "<div>\n",
       "<style scoped>\n",
       "    .dataframe tbody tr th:only-of-type {\n",
       "        vertical-align: middle;\n",
       "    }\n",
       "\n",
       "    .dataframe tbody tr th {\n",
       "        vertical-align: top;\n",
       "    }\n",
       "\n",
       "    .dataframe thead th {\n",
       "        text-align: right;\n",
       "    }\n",
       "</style>\n",
       "<table border=\"1\" class=\"dataframe\">\n",
       "  <thead>\n",
       "    <tr style=\"text-align: right;\">\n",
       "      <th></th>\n",
       "      <th>y</th>\n",
       "      <th>Costo_Compra</th>\n",
       "    </tr>\n",
       "    <tr>\n",
       "      <th>Fecha</th>\n",
       "      <th></th>\n",
       "      <th></th>\n",
       "    </tr>\n",
       "  </thead>\n",
       "  <tbody>\n",
       "    <tr>\n",
       "      <th>2021-01-01</th>\n",
       "      <td>2.568448</td>\n",
       "      <td>1.681667</td>\n",
       "    </tr>\n",
       "    <tr>\n",
       "      <th>2021-02-01</th>\n",
       "      <td>2.278221</td>\n",
       "      <td>1.522000</td>\n",
       "    </tr>\n",
       "    <tr>\n",
       "      <th>2021-03-01</th>\n",
       "      <td>2.377601</td>\n",
       "      <td>1.579167</td>\n",
       "    </tr>\n",
       "    <tr>\n",
       "      <th>2021-04-01</th>\n",
       "      <td>2.385905</td>\n",
       "      <td>1.630000</td>\n",
       "    </tr>\n",
       "    <tr>\n",
       "      <th>2021-05-01</th>\n",
       "      <td>2.214194</td>\n",
       "      <td>1.471333</td>\n",
       "    </tr>\n",
       "    <tr>\n",
       "      <th>2021-06-01</th>\n",
       "      <td>2.285238</td>\n",
       "      <td>1.586154</td>\n",
       "    </tr>\n",
       "    <tr>\n",
       "      <th>2021-07-01</th>\n",
       "      <td>2.431863</td>\n",
       "      <td>1.685000</td>\n",
       "    </tr>\n",
       "    <tr>\n",
       "      <th>2021-08-01</th>\n",
       "      <td>2.431796</td>\n",
       "      <td>1.711667</td>\n",
       "    </tr>\n",
       "    <tr>\n",
       "      <th>2021-09-01</th>\n",
       "      <td>2.264232</td>\n",
       "      <td>1.540556</td>\n",
       "    </tr>\n",
       "    <tr>\n",
       "      <th>2021-10-01</th>\n",
       "      <td>2.496813</td>\n",
       "      <td>1.693333</td>\n",
       "    </tr>\n",
       "    <tr>\n",
       "      <th>2021-11-01</th>\n",
       "      <td>2.807214</td>\n",
       "      <td>1.928462</td>\n",
       "    </tr>\n",
       "    <tr>\n",
       "      <th>2021-12-01</th>\n",
       "      <td>2.851586</td>\n",
       "      <td>1.977500</td>\n",
       "    </tr>\n",
       "    <tr>\n",
       "      <th>2022-01-01</th>\n",
       "      <td>2.857721</td>\n",
       "      <td>1.980000</td>\n",
       "    </tr>\n",
       "    <tr>\n",
       "      <th>2022-02-01</th>\n",
       "      <td>2.910870</td>\n",
       "      <td>2.039091</td>\n",
       "    </tr>\n",
       "    <tr>\n",
       "      <th>2022-03-01</th>\n",
       "      <td>2.850000</td>\n",
       "      <td>1.947692</td>\n",
       "    </tr>\n",
       "    <tr>\n",
       "      <th>2022-04-01</th>\n",
       "      <td>2.856860</td>\n",
       "      <td>1.994286</td>\n",
       "    </tr>\n",
       "    <tr>\n",
       "      <th>2022-05-01</th>\n",
       "      <td>3.237722</td>\n",
       "      <td>2.247778</td>\n",
       "    </tr>\n",
       "    <tr>\n",
       "      <th>2022-06-01</th>\n",
       "      <td>3.650191</td>\n",
       "      <td>2.473750</td>\n",
       "    </tr>\n",
       "    <tr>\n",
       "      <th>2022-07-01</th>\n",
       "      <td>3.773901</td>\n",
       "      <td>2.660000</td>\n",
       "    </tr>\n",
       "    <tr>\n",
       "      <th>2022-08-01</th>\n",
       "      <td>3.835714</td>\n",
       "      <td>2.692500</td>\n",
       "    </tr>\n",
       "    <tr>\n",
       "      <th>2022-09-01</th>\n",
       "      <td>3.682342</td>\n",
       "      <td>2.434545</td>\n",
       "    </tr>\n",
       "    <tr>\n",
       "      <th>2022-10-01</th>\n",
       "      <td>3.847731</td>\n",
       "      <td>2.653750</td>\n",
       "    </tr>\n",
       "    <tr>\n",
       "      <th>2022-11-01</th>\n",
       "      <td>3.577338</td>\n",
       "      <td>2.416154</td>\n",
       "    </tr>\n",
       "    <tr>\n",
       "      <th>2022-12-01</th>\n",
       "      <td>3.117642</td>\n",
       "      <td>2.202500</td>\n",
       "    </tr>\n",
       "  </tbody>\n",
       "</table>\n",
       "</div>"
      ],
      "text/plain": [
       "                   y  Costo_Compra\n",
       "Fecha                             \n",
       "2021-01-01  2.568448      1.681667\n",
       "2021-02-01  2.278221      1.522000\n",
       "2021-03-01  2.377601      1.579167\n",
       "2021-04-01  2.385905      1.630000\n",
       "2021-05-01  2.214194      1.471333\n",
       "2021-06-01  2.285238      1.586154\n",
       "2021-07-01  2.431863      1.685000\n",
       "2021-08-01  2.431796      1.711667\n",
       "2021-09-01  2.264232      1.540556\n",
       "2021-10-01  2.496813      1.693333\n",
       "2021-11-01  2.807214      1.928462\n",
       "2021-12-01  2.851586      1.977500\n",
       "2022-01-01  2.857721      1.980000\n",
       "2022-02-01  2.910870      2.039091\n",
       "2022-03-01  2.850000      1.947692\n",
       "2022-04-01  2.856860      1.994286\n",
       "2022-05-01  3.237722      2.247778\n",
       "2022-06-01  3.650191      2.473750\n",
       "2022-07-01  3.773901      2.660000\n",
       "2022-08-01  3.835714      2.692500\n",
       "2022-09-01  3.682342      2.434545\n",
       "2022-10-01  3.847731      2.653750\n",
       "2022-11-01  3.577338      2.416154\n",
       "2022-12-01  3.117642      2.202500"
      ]
     },
     "execution_count": 20,
     "metadata": {},
     "output_type": "execute_result"
    }
   ],
   "source": [
    "datos"
   ]
  },
  {
   "cell_type": "code",
   "execution_count": 21,
   "id": "a059a8dd-142e-4bac-bfc3-730a992a17d8",
   "metadata": {
    "tags": []
   },
   "outputs": [
    {
     "data": {
      "text/html": [
       "<div>\n",
       "<style scoped>\n",
       "    .dataframe tbody tr th:only-of-type {\n",
       "        vertical-align: middle;\n",
       "    }\n",
       "\n",
       "    .dataframe tbody tr th {\n",
       "        vertical-align: top;\n",
       "    }\n",
       "\n",
       "    .dataframe thead th {\n",
       "        text-align: right;\n",
       "    }\n",
       "</style>\n",
       "<table border=\"1\" class=\"dataframe\">\n",
       "  <thead>\n",
       "    <tr style=\"text-align: right;\">\n",
       "      <th></th>\n",
       "      <th>y</th>\n",
       "    </tr>\n",
       "    <tr>\n",
       "      <th>Fecha</th>\n",
       "      <th></th>\n",
       "    </tr>\n",
       "  </thead>\n",
       "  <tbody>\n",
       "    <tr>\n",
       "      <th>2021-01-01</th>\n",
       "      <td>2.568448</td>\n",
       "    </tr>\n",
       "    <tr>\n",
       "      <th>2021-02-01</th>\n",
       "      <td>2.278221</td>\n",
       "    </tr>\n",
       "    <tr>\n",
       "      <th>2021-03-01</th>\n",
       "      <td>2.377601</td>\n",
       "    </tr>\n",
       "    <tr>\n",
       "      <th>2021-04-01</th>\n",
       "      <td>2.385905</td>\n",
       "    </tr>\n",
       "    <tr>\n",
       "      <th>2021-05-01</th>\n",
       "      <td>2.214194</td>\n",
       "    </tr>\n",
       "    <tr>\n",
       "      <th>2021-06-01</th>\n",
       "      <td>2.285238</td>\n",
       "    </tr>\n",
       "    <tr>\n",
       "      <th>2021-07-01</th>\n",
       "      <td>2.431863</td>\n",
       "    </tr>\n",
       "    <tr>\n",
       "      <th>2021-08-01</th>\n",
       "      <td>2.431796</td>\n",
       "    </tr>\n",
       "    <tr>\n",
       "      <th>2021-09-01</th>\n",
       "      <td>2.264232</td>\n",
       "    </tr>\n",
       "    <tr>\n",
       "      <th>2021-10-01</th>\n",
       "      <td>2.496813</td>\n",
       "    </tr>\n",
       "    <tr>\n",
       "      <th>2021-11-01</th>\n",
       "      <td>2.807214</td>\n",
       "    </tr>\n",
       "    <tr>\n",
       "      <th>2021-12-01</th>\n",
       "      <td>2.851586</td>\n",
       "    </tr>\n",
       "    <tr>\n",
       "      <th>2022-01-01</th>\n",
       "      <td>2.857721</td>\n",
       "    </tr>\n",
       "    <tr>\n",
       "      <th>2022-02-01</th>\n",
       "      <td>2.910870</td>\n",
       "    </tr>\n",
       "    <tr>\n",
       "      <th>2022-03-01</th>\n",
       "      <td>2.850000</td>\n",
       "    </tr>\n",
       "    <tr>\n",
       "      <th>2022-04-01</th>\n",
       "      <td>2.856860</td>\n",
       "    </tr>\n",
       "    <tr>\n",
       "      <th>2022-05-01</th>\n",
       "      <td>3.237722</td>\n",
       "    </tr>\n",
       "    <tr>\n",
       "      <th>2022-06-01</th>\n",
       "      <td>3.650191</td>\n",
       "    </tr>\n",
       "    <tr>\n",
       "      <th>2022-07-01</th>\n",
       "      <td>3.773901</td>\n",
       "    </tr>\n",
       "    <tr>\n",
       "      <th>2022-08-01</th>\n",
       "      <td>3.835714</td>\n",
       "    </tr>\n",
       "    <tr>\n",
       "      <th>2022-09-01</th>\n",
       "      <td>3.682342</td>\n",
       "    </tr>\n",
       "    <tr>\n",
       "      <th>2022-10-01</th>\n",
       "      <td>3.847731</td>\n",
       "    </tr>\n",
       "    <tr>\n",
       "      <th>2022-11-01</th>\n",
       "      <td>3.577338</td>\n",
       "    </tr>\n",
       "    <tr>\n",
       "      <th>2022-12-01</th>\n",
       "      <td>3.117642</td>\n",
       "    </tr>\n",
       "  </tbody>\n",
       "</table>\n",
       "</div>"
      ],
      "text/plain": [
       "                   y\n",
       "Fecha               \n",
       "2021-01-01  2.568448\n",
       "2021-02-01  2.278221\n",
       "2021-03-01  2.377601\n",
       "2021-04-01  2.385905\n",
       "2021-05-01  2.214194\n",
       "2021-06-01  2.285238\n",
       "2021-07-01  2.431863\n",
       "2021-08-01  2.431796\n",
       "2021-09-01  2.264232\n",
       "2021-10-01  2.496813\n",
       "2021-11-01  2.807214\n",
       "2021-12-01  2.851586\n",
       "2022-01-01  2.857721\n",
       "2022-02-01  2.910870\n",
       "2022-03-01  2.850000\n",
       "2022-04-01  2.856860\n",
       "2022-05-01  3.237722\n",
       "2022-06-01  3.650191\n",
       "2022-07-01  3.773901\n",
       "2022-08-01  3.835714\n",
       "2022-09-01  3.682342\n",
       "2022-10-01  3.847731\n",
       "2022-11-01  3.577338\n",
       "2022-12-01  3.117642"
      ]
     },
     "execution_count": 21,
     "metadata": {},
     "output_type": "execute_result"
    }
   ],
   "source": [
    "# Datos solo con la variable y (Precio_Venta)\n",
    "datos_solo_y = datos.drop(['Costo_Compra'],axis=1)\n",
    "datos_solo_y"
   ]
  },
  {
   "cell_type": "code",
   "execution_count": 22,
   "id": "fd784e8b-f1f5-4c69-925c-f0f20adde8b8",
   "metadata": {
    "tags": []
   },
   "outputs": [
    {
     "data": {
      "text/html": [
       "<div>\n",
       "<style scoped>\n",
       "    .dataframe tbody tr th:only-of-type {\n",
       "        vertical-align: middle;\n",
       "    }\n",
       "\n",
       "    .dataframe tbody tr th {\n",
       "        vertical-align: top;\n",
       "    }\n",
       "\n",
       "    .dataframe thead th {\n",
       "        text-align: right;\n",
       "    }\n",
       "</style>\n",
       "<table border=\"1\" class=\"dataframe\">\n",
       "  <thead>\n",
       "    <tr style=\"text-align: right;\">\n",
       "      <th></th>\n",
       "      <th>y</th>\n",
       "    </tr>\n",
       "    <tr>\n",
       "      <th>Fecha</th>\n",
       "      <th></th>\n",
       "    </tr>\n",
       "  </thead>\n",
       "  <tbody>\n",
       "    <tr>\n",
       "      <th>2021-01-01</th>\n",
       "      <td>2.568448</td>\n",
       "    </tr>\n",
       "    <tr>\n",
       "      <th>2021-02-01</th>\n",
       "      <td>2.278221</td>\n",
       "    </tr>\n",
       "    <tr>\n",
       "      <th>2021-03-01</th>\n",
       "      <td>2.377601</td>\n",
       "    </tr>\n",
       "    <tr>\n",
       "      <th>2021-04-01</th>\n",
       "      <td>2.385905</td>\n",
       "    </tr>\n",
       "    <tr>\n",
       "      <th>2021-05-01</th>\n",
       "      <td>2.214194</td>\n",
       "    </tr>\n",
       "    <tr>\n",
       "      <th>2021-06-01</th>\n",
       "      <td>2.285238</td>\n",
       "    </tr>\n",
       "    <tr>\n",
       "      <th>2021-07-01</th>\n",
       "      <td>2.431863</td>\n",
       "    </tr>\n",
       "    <tr>\n",
       "      <th>2021-08-01</th>\n",
       "      <td>2.431796</td>\n",
       "    </tr>\n",
       "    <tr>\n",
       "      <th>2021-09-01</th>\n",
       "      <td>2.264232</td>\n",
       "    </tr>\n",
       "    <tr>\n",
       "      <th>2021-10-01</th>\n",
       "      <td>2.496813</td>\n",
       "    </tr>\n",
       "    <tr>\n",
       "      <th>2021-11-01</th>\n",
       "      <td>2.807214</td>\n",
       "    </tr>\n",
       "    <tr>\n",
       "      <th>2021-12-01</th>\n",
       "      <td>2.851586</td>\n",
       "    </tr>\n",
       "    <tr>\n",
       "      <th>2022-01-01</th>\n",
       "      <td>2.857721</td>\n",
       "    </tr>\n",
       "    <tr>\n",
       "      <th>2022-02-01</th>\n",
       "      <td>2.910870</td>\n",
       "    </tr>\n",
       "    <tr>\n",
       "      <th>2022-03-01</th>\n",
       "      <td>2.850000</td>\n",
       "    </tr>\n",
       "    <tr>\n",
       "      <th>2022-04-01</th>\n",
       "      <td>2.856860</td>\n",
       "    </tr>\n",
       "    <tr>\n",
       "      <th>2022-05-01</th>\n",
       "      <td>3.237722</td>\n",
       "    </tr>\n",
       "    <tr>\n",
       "      <th>2022-06-01</th>\n",
       "      <td>3.650191</td>\n",
       "    </tr>\n",
       "    <tr>\n",
       "      <th>2022-07-01</th>\n",
       "      <td>3.773901</td>\n",
       "    </tr>\n",
       "    <tr>\n",
       "      <th>2022-08-01</th>\n",
       "      <td>3.835714</td>\n",
       "    </tr>\n",
       "    <tr>\n",
       "      <th>2022-09-01</th>\n",
       "      <td>3.682342</td>\n",
       "    </tr>\n",
       "    <tr>\n",
       "      <th>2022-10-01</th>\n",
       "      <td>3.847731</td>\n",
       "    </tr>\n",
       "    <tr>\n",
       "      <th>2022-11-01</th>\n",
       "      <td>3.577338</td>\n",
       "    </tr>\n",
       "    <tr>\n",
       "      <th>2022-12-01</th>\n",
       "      <td>3.117642</td>\n",
       "    </tr>\n",
       "  </tbody>\n",
       "</table>\n",
       "</div>"
      ],
      "text/plain": [
       "                   y\n",
       "Fecha               \n",
       "2021-01-01  2.568448\n",
       "2021-02-01  2.278221\n",
       "2021-03-01  2.377601\n",
       "2021-04-01  2.385905\n",
       "2021-05-01  2.214194\n",
       "2021-06-01  2.285238\n",
       "2021-07-01  2.431863\n",
       "2021-08-01  2.431796\n",
       "2021-09-01  2.264232\n",
       "2021-10-01  2.496813\n",
       "2021-11-01  2.807214\n",
       "2021-12-01  2.851586\n",
       "2022-01-01  2.857721\n",
       "2022-02-01  2.910870\n",
       "2022-03-01  2.850000\n",
       "2022-04-01  2.856860\n",
       "2022-05-01  3.237722\n",
       "2022-06-01  3.650191\n",
       "2022-07-01  3.773901\n",
       "2022-08-01  3.835714\n",
       "2022-09-01  3.682342\n",
       "2022-10-01  3.847731\n",
       "2022-11-01  3.577338\n",
       "2022-12-01  3.117642"
      ]
     },
     "execution_count": 22,
     "metadata": {},
     "output_type": "execute_result"
    }
   ],
   "source": [
    "# Para aplicar la proyeccion asignaremos al dataframe datos\n",
    "datos=pd.DataFrame(datos_solo_y)\n",
    "datos"
   ]
  },
  {
   "cell_type": "code",
   "execution_count": 23,
   "id": "cb9b77de-7a20-4beb-8a54-9d197e6615ec",
   "metadata": {},
   "outputs": [
    {
     "name": "stdout",
     "output_type": "stream",
     "text": [
      "Fechas train : 2021-01-01 00:00:00 --- 2022-11-01 00:00:00  (n=23)\n",
      "Fechas test  : 2022-12-01 00:00:00 --- 2022-12-01 00:00:00  (n=1)\n"
     ]
    },
    {
     "data": {
      "image/png": "[encoded data removed]",
      "text/plain": [
       "<Figure size 700x300 with 1 Axes>"
      ]
     },
     "metadata": {},
     "output_type": "display_data"
    }
   ],
   "source": [
    "# Separación datos train-test\n",
    "# ==============================================================================\n",
    "\n",
    "steps =  1\n",
    "datos_train = datos[:-steps]\n",
    "datos_test  = datos[-steps:]\n",
    "\n",
    "print(f\"Fechas train : {datos_train.index.min()} --- {datos_train.index.max()}  (n={len(datos_train)})\")\n",
    "print(f\"Fechas test  : {datos_test.index.min()} --- {datos_test.index.max()}  (n={len(datos_test)})\")\n",
    "\n",
    "fig, ax = plt.subplots(figsize=(7, 3))\n",
    "datos_train['y'].plot(ax=ax, label='train')\n",
    "datos_test['y'].plot(ax=ax, label='test')\n",
    "ax.legend();"
   ]
  },
  {
   "cell_type": "code",
   "execution_count": 24,
   "id": "37f06998-ff1f-48ce-bf96-cb30580c6583",
   "metadata": {
    "tags": []
   },
   "outputs": [
    {
     "name": "stdout",
     "output_type": "stream",
     "text": [
      "Fechas train : 2021-01-01 00:00:00 --- 2022-10-01 00:00:00  (n=22)\n",
      "Fechas test  : 2022-11-01 00:00:00 --- 2022-12-01 00:00:00  (n=2)\n"
     ]
    },
    {
     "data": {
      "image/png": "[encoded data removed]",
      "text/plain": [
       "<Figure size 700x300 with 1 Axes>"
      ]
     },
     "metadata": {},
     "output_type": "display_data"
    }
   ],
   "source": [
    "# Separación datos train-test\n",
    "# ==============================================================================\n",
    "\n",
    "steps =  2\n",
    "datos_train = datos[:-steps]\n",
    "datos_test  = datos[-steps:]\n",
    "\n",
    "print(f\"Fechas train : {datos_train.index.min()} --- {datos_train.index.max()}  (n={len(datos_train)})\")\n",
    "print(f\"Fechas test  : {datos_test.index.min()} --- {datos_test.index.max()}  (n={len(datos_test)})\")\n",
    "\n",
    "fig, ax = plt.subplots(figsize=(7, 3))\n",
    "datos_train['y'].plot(ax=ax, label='train')\n",
    "datos_test['y'].plot(ax=ax, label='test')\n",
    "ax.legend();"
   ]
  },
  {
   "cell_type": "code",
   "execution_count": 25,
   "id": "0bf09c41-e60f-4f33-89ef-76d7c0656ddc",
   "metadata": {
    "tags": []
   },
   "outputs": [
    {
     "name": "stdout",
     "output_type": "stream",
     "text": [
      "Fechas train : 2021-01-01 00:00:00 --- 2022-08-01 00:00:00  (n=20)\n",
      "Fechas test  : 2022-09-01 00:00:00 --- 2022-12-01 00:00:00  (n=4)\n"
     ]
    },
    {
     "data": {
      "image/png": "[encoded data removed]",
      "text/plain": [
       "<Figure size 700x300 with 1 Axes>"
      ]
     },
     "metadata": {},
     "output_type": "display_data"
    }
   ],
   "source": [
    "# Separación datos train-test\n",
    "# ==============================================================================\n",
    "\n",
    "steps =  4\n",
    "datos_train = datos[:-steps]\n",
    "datos_test  = datos[-steps:]\n",
    "\n",
    "print(f\"Fechas train : {datos_train.index.min()} --- {datos_train.index.max()}  (n={len(datos_train)})\")\n",
    "print(f\"Fechas test  : {datos_test.index.min()} --- {datos_test.index.max()}  (n={len(datos_test)})\")\n",
    "\n",
    "fig, ax = plt.subplots(figsize=(7, 3))\n",
    "datos_train['y'].plot(ax=ax, label='train')\n",
    "datos_test['y'].plot(ax=ax, label='test')\n",
    "ax.legend();"
   ]
  },
  {
   "cell_type": "code",
   "execution_count": 26,
   "id": "9e73918e-249d-4825-ba01-fbd501ae6abc",
   "metadata": {
    "tags": []
   },
   "outputs": [
    {
     "name": "stdout",
     "output_type": "stream",
     "text": [
      "Fechas train : 2021-01-01 00:00:00 --- 2022-06-01 00:00:00  (n=18)\n",
      "Fechas test  : 2022-07-01 00:00:00 --- 2022-12-01 00:00:00  (n=6)\n"
     ]
    },
    {
     "data": {
      "image/png": "[encoded data removed]",
      "text/plain": [
       "<Figure size 700x300 with 1 Axes>"
      ]
     },
     "metadata": {},
     "output_type": "display_data"
    }
   ],
   "source": [
    "# Separación datos train-test\n",
    "# ==============================================================================\n",
    "\n",
    "steps =  6\n",
    "datos_train = datos[:-steps]\n",
    "datos_test  = datos[-steps:]\n",
    "\n",
    "print(f\"Fechas train : {datos_train.index.min()} --- {datos_train.index.max()}  (n={len(datos_train)})\")\n",
    "print(f\"Fechas test  : {datos_test.index.min()} --- {datos_test.index.max()}  (n={len(datos_test)})\")\n",
    "\n",
    "fig, ax = plt.subplots(figsize=(7, 3))\n",
    "datos_train['y'].plot(ax=ax, label='train')\n",
    "datos_test['y'].plot(ax=ax, label='test')\n",
    "ax.legend();"
   ]
  },
  {
   "cell_type": "code",
   "execution_count": 27,
   "id": "0b8ec73c-3be6-4e86-835f-8cf30a90f5e4",
   "metadata": {
    "tags": []
   },
   "outputs": [
    {
     "name": "stdout",
     "output_type": "stream",
     "text": [
      "Fechas train : 2021-01-01 00:00:00 --- 2022-04-01 00:00:00  (n=16)\n",
      "Fechas test  : 2022-05-01 00:00:00 --- 2022-12-01 00:00:00  (n=8)\n"
     ]
    },
    {
     "data": {
      "image/png": "[encoded data removed]",
      "text/plain": [
       "<Figure size 700x300 with 1 Axes>"
      ]
     },
     "metadata": {},
     "output_type": "display_data"
    }
   ],
   "source": [
    "# Separación datos train-test\n",
    "# ==============================================================================\n",
    "\n",
    "steps =  8\n",
    "datos_train = datos[:-steps]\n",
    "datos_test  = datos[-steps:]\n",
    "\n",
    "print(f\"Fechas train : {datos_train.index.min()} --- {datos_train.index.max()}  (n={len(datos_train)})\")\n",
    "print(f\"Fechas test  : {datos_test.index.min()} --- {datos_test.index.max()}  (n={len(datos_test)})\")\n",
    "\n",
    "fig, ax = plt.subplots(figsize=(7, 3))\n",
    "datos_train['y'].plot(ax=ax, label='train')\n",
    "datos_test['y'].plot(ax=ax, label='test')\n",
    "ax.legend();"
   ]
  },
  {
   "cell_type": "code",
   "execution_count": 28,
   "id": "30d4e483-21ed-42c6-8133-13f9271243e7",
   "metadata": {
    "tags": []
   },
   "outputs": [
    {
     "name": "stdout",
     "output_type": "stream",
     "text": [
      "Fechas train : 2021-01-01 00:00:00 --- 2022-02-01 00:00:00  (n=14)\n",
      "Fechas test  : 2022-03-01 00:00:00 --- 2022-12-01 00:00:00  (n=10)\n"
     ]
    },
    {
     "data": {
      "image/png": "[encoded data removed]",
      "text/plain": [
       "<Figure size 700x300 with 1 Axes>"
      ]
     },
     "metadata": {},
     "output_type": "display_data"
    }
   ],
   "source": [
    "# Separación datos train-test\n",
    "# ==============================================================================\n",
    "\n",
    "steps =  10\n",
    "datos_train = datos[:-steps]\n",
    "datos_test  = datos[-steps:]\n",
    "\n",
    "print(f\"Fechas train : {datos_train.index.min()} --- {datos_train.index.max()}  (n={len(datos_train)})\")\n",
    "print(f\"Fechas test  : {datos_test.index.min()} --- {datos_test.index.max()}  (n={len(datos_test)})\")\n",
    "\n",
    "fig, ax = plt.subplots(figsize=(7, 3))\n",
    "datos_train['y'].plot(ax=ax, label='train')\n",
    "datos_test['y'].plot(ax=ax, label='test')\n",
    "ax.legend();"
   ]
  },
  {
   "cell_type": "code",
   "execution_count": 29,
   "id": "ed24f2d3-018f-4692-823a-15472129ee14",
   "metadata": {
    "tags": []
   },
   "outputs": [
    {
     "name": "stdout",
     "output_type": "stream",
     "text": [
      "Fechas train : 2021-01-01 00:00:00 --- 2021-12-01 00:00:00  (n=12)\n",
      "Fechas test  : 2022-01-01 00:00:00 --- 2022-12-01 00:00:00  (n=12)\n"
     ]
    },
    {
     "data": {
      "image/png": "[encoded data removed]",
      "text/plain": [
       "<Figure size 700x300 with 1 Axes>"
      ]
     },
     "metadata": {},
     "output_type": "display_data"
    }
   ],
   "source": [
    "# Separación datos train-test\n",
    "# ==============================================================================\n",
    "steps =  12\n",
    "datos_train = datos[:-steps]\n",
    "datos_test  = datos[-steps:]\n",
    "\n",
    "print(f\"Fechas train : {datos_train.index.min()} --- {datos_train.index.max()}  (n={len(datos_train)})\")\n",
    "print(f\"Fechas test  : {datos_test.index.min()} --- {datos_test.index.max()}  (n={len(datos_test)})\")\n",
    "\n",
    "fig, ax = plt.subplots(figsize=(7, 3))\n",
    "datos_train['y'].plot(ax=ax, label='train')\n",
    "datos_test['y'].plot(ax=ax, label='test')\n",
    "ax.legend();"
   ]
  },
  {
   "cell_type": "code",
   "execution_count": null,
   "id": "d0565fd4-8d5f-4e07-8ebb-b02d16a4240c",
   "metadata": {},
   "outputs": [],
   "source": []
  },
  {
   "cell_type": "markdown",
   "id": "07341d35-0569-4f07-b904-f3193977bd9c",
   "metadata": {},
   "source": [
    "### ForecasterAutoreg"
   ]
  },
  {
   "cell_type": "code",
   "execution_count": 30,
   "id": "dc0b1982-b895-49c2-b3d4-1c071871ab9e",
   "metadata": {},
   "outputs": [
    {
     "data": {
      "text/plain": [
       "================= \n",
       "ForecasterAutoreg \n",
       "================= \n",
       "Regressor: RandomForestRegressor(random_state=123) \n",
       "Lags: [1 2 3 4 5 6] \n",
       "Transformer for y: None \n",
       "Transformer for exog: None \n",
       "Window size: 6 \n",
       "Weight function included: False \n",
       "Exogenous included: False \n",
       "Type of exogenous variable: None \n",
       "Exogenous variables names: None \n",
       "Training range: [Timestamp('2021-01-01 00:00:00'), Timestamp('2021-12-01 00:00:00')] \n",
       "Training index type: DatetimeIndex \n",
       "Training index frequency: MS \n",
       "Regressor parameters: {'bootstrap': True, 'ccp_alpha': 0.0, 'criterion': 'squared_error', 'max_depth': None, 'max_features': 1.0, 'max_leaf_nodes': None, 'max_samples': None, 'min_impurity_decrease': 0.0, 'min_samples_leaf': 1, 'min_samples_split': 2, 'min_weight_fraction_leaf': 0.0, 'n_estimators': 100, 'n_jobs': None, 'oob_score': False, 'random_state': 123, 'verbose': 0, 'warm_start': False} \n",
       "Creation date: 2023-04-14 05:26:48 \n",
       "Last fit date: 2023-04-14 05:26:48 \n",
       "Skforecast version: 0.7.0 \n",
       "Python version: 3.10.9 \n",
       "Forecaster id: None "
      ]
     },
     "execution_count": 30,
     "metadata": {},
     "output_type": "execute_result"
    }
   ],
   "source": [
    "# Crear y entrenar forecaster\n",
    "# ==============================================================================\n",
    "forecaster = ForecasterAutoreg(\n",
    "                regressor = RandomForestRegressor(random_state=123),\n",
    "                lags = 6\n",
    "             )\n",
    "\n",
    "forecaster.fit(y=datos_train['y'])\n",
    "forecaster"
   ]
  },
  {
   "cell_type": "markdown",
   "id": "d1853b90-d69e-4623-9db1-10fdd5e5ebd4",
   "metadata": {},
   "source": [
    "### Predicciones"
   ]
  },
  {
   "cell_type": "code",
   "execution_count": 31,
   "id": "fc13700b-e5c7-43e2-90fe-a1449a14052e",
   "metadata": {},
   "outputs": [],
   "source": [
    "# Predicciones\n",
    "# ==============================================================================\n",
    "# steps = 12\n",
    "# predicciones = forecaster.predict(steps=steps)\n",
    "# predicciones"
   ]
  },
  {
   "cell_type": "code",
   "execution_count": 32,
   "id": "d438b514-7fa7-4d0f-9062-1782ec48f967",
   "metadata": {
    "tags": []
   },
   "outputs": [
    {
     "data": {
      "text/plain": [
       "2022-01-01    2.585908\n",
       "2022-02-01    2.656645\n",
       "2022-03-01    2.745223\n",
       "2022-04-01    2.678731\n",
       "2022-05-01    2.678731\n",
       "2022-06-01    2.678731\n",
       "Freq: MS, Name: pred, dtype: float64"
      ]
     },
     "execution_count": 32,
     "metadata": {},
     "output_type": "execute_result"
    }
   ],
   "source": [
    "# Predicciones\n",
    "# ==============================================================================\n",
    "steps = 6\n",
    "predicciones = forecaster.predict(steps=steps)\n",
    "\n",
    "predicciones"
   ]
  },
  {
   "cell_type": "code",
   "execution_count": 33,
   "id": "bf55939e-689a-4dd5-b6eb-2c337c292d8a",
   "metadata": {},
   "outputs": [
    {
     "data": {
      "image/png": "[encoded data removed]",
      "text/plain": [
       "<Figure size 700x300 with 1 Axes>"
      ]
     },
     "metadata": {},
     "output_type": "display_data"
    }
   ],
   "source": [
    "# Gráfico\n",
    "# ==============================================================================\n",
    "fig, ax = plt.subplots(figsize=(7, 3))\n",
    "datos_train['y'].plot(ax=ax, label='train')\n",
    "datos_test['y'].plot(ax=ax, label='test')\n",
    "predicciones.plot(ax=ax, label='predicciones')\n",
    "ax.legend();"
   ]
  },
  {
   "cell_type": "markdown",
   "id": "cfa050f3-f2b0-4905-892e-3434e99a00c1",
   "metadata": {},
   "source": [
    "### Error de las predicciones en el conjunto de test"
   ]
  },
  {
   "cell_type": "code",
   "execution_count": 34,
   "id": "b09a554b-3f82-4b58-8a2e-d874460f6b82",
   "metadata": {},
   "outputs": [],
   "source": [
    "# Error test\n",
    "# ==============================================================================\n",
    "# error_mse = mean_squared_error(\n",
    "#                y_true = datos_test['y'],\n",
    "#                y_pred = predicciones\n",
    "#            )\n",
    "# print(f\"Error de test (mse): {error_mse}\")"
   ]
  },
  {
   "cell_type": "markdown",
   "id": "cb721f74-f724-431f-8b31-539d095880d7",
   "metadata": {},
   "source": [
    "### Ajuste de hiperparámetros (tuning)"
   ]
  },
  {
   "cell_type": "code",
   "execution_count": 35,
   "id": "b0ff62d1-a161-4438-9b3f-ac8527139dc1",
   "metadata": {},
   "outputs": [
    {
     "name": "stdout",
     "output_type": "stream",
     "text": [
      "Number of models compared: 12.\n"
     ]
    },
    {
     "name": "stderr",
     "output_type": "stream",
     "text": [
      "loop lags_grid:   0%|                                               | 0/2 [00:00<?, ?it/s]\n",
      "loop param_grid:   0%|                                              | 0/6 [00:00<?, ?it/s]\u001b[A\n",
      "loop param_grid:  17%|██████▎                               | 1/6 [00:00<00:00,  5.18it/s]\u001b[A\n",
      "loop param_grid:  33%|████████████▋                         | 2/6 [00:01<00:02,  1.71it/s]\u001b[A\n",
      "loop param_grid:  50%|███████████████████                   | 3/6 [00:01<00:01,  2.52it/s]\u001b[A\n",
      "loop param_grid:  67%|█████████████████████████▎            | 4/6 [00:02<00:01,  1.80it/s]\u001b[A\n",
      "loop param_grid:  83%|███████████████████████████████▋      | 5/6 [00:02<00:00,  2.38it/s]\u001b[A\n",
      "loop param_grid: 100%|██████████████████████████████████████| 6/6 [00:03<00:00,  1.72it/s]\u001b[A\n",
      "loop lags_grid:  50%|███████████████████▌                   | 1/2 [00:03<00:03,  3.11s/it]\u001b[A\n",
      "loop param_grid:   0%|                                              | 0/6 [00:00<?, ?it/s]\u001b[A\n",
      "loop param_grid:  17%|██████▎                               | 1/6 [00:00<00:00,  5.91it/s]\u001b[A\n",
      "loop param_grid:  33%|████████████▋                         | 2/6 [00:00<00:02,  1.86it/s]\u001b[A\n",
      "loop param_grid:  50%|███████████████████                   | 3/6 [00:01<00:01,  2.71it/s]\u001b[A\n",
      "loop param_grid:  67%|█████████████████████████▎            | 4/6 [00:01<00:01,  1.89it/s]\u001b[A\n",
      "loop param_grid:  83%|███████████████████████████████▋      | 5/6 [00:02<00:00,  2.50it/s]\u001b[A\n",
      "loop param_grid: 100%|██████████████████████████████████████| 6/6 [00:02<00:00,  1.84it/s]\u001b[A\n",
      "loop lags_grid: 100%|███████████████████████████████████████| 2/2 [00:06<00:00,  3.01s/it]\u001b[A"
     ]
    },
    {
     "name": "stdout",
     "output_type": "stream",
     "text": [
      "`Forecaster` refitted using the best-found lags and parameters, and the whole data set: \n",
      "  Lags: [1 2] \n",
      "  Parameters: {'max_depth': 3, 'n_estimators': 100}\n",
      "  Backtesting metric: 0.08564388741723823\n",
      "\n"
     ]
    },
    {
     "name": "stderr",
     "output_type": "stream",
     "text": [
      "\n"
     ]
    }
   ],
   "source": [
    "# Grid search de hiperparámetros\n",
    "# ==============================================================================\n",
    "steps = 12\n",
    "forecaster = ForecasterAutoreg(\n",
    "                regressor = RandomForestRegressor(random_state=123),\n",
    "                lags      = 12 # Este valor será remplazado en el grid search\n",
    "             )\n",
    "\n",
    "# Lags utilizados como predictores\n",
    "lags_grid = [2, 4]\n",
    "\n",
    "# Hiperparámetros del regresor\n",
    "param_grid = {'n_estimators': [100, 500],\n",
    "              'max_depth': [3, 5, 10]}\n",
    "\n",
    "resultados_grid = grid_search_forecaster(\n",
    "                        forecaster         = forecaster,\n",
    "                        y                  = datos_train['y'],\n",
    "                        param_grid         = param_grid,\n",
    "                        lags_grid          = lags_grid,\n",
    "                        steps              = steps,\n",
    "                        refit              = True,\n",
    "                        metric             = 'mean_squared_error',\n",
    "                        initial_train_size = int(len(datos_train)*0.5),\n",
    "                        fixed_train_size   = False,\n",
    "                        return_best        = True,\n",
    "                        verbose            = False\n",
    "                  )"
   ]
  },
  {
   "cell_type": "code",
   "execution_count": 36,
   "id": "672feac8-4c83-4b45-ad86-494cea510810",
   "metadata": {},
   "outputs": [
    {
     "data": {
      "text/html": [
       "<div>\n",
       "<style scoped>\n",
       "    .dataframe tbody tr th:only-of-type {\n",
       "        vertical-align: middle;\n",
       "    }\n",
       "\n",
       "    .dataframe tbody tr th {\n",
       "        vertical-align: top;\n",
       "    }\n",
       "\n",
       "    .dataframe thead th {\n",
       "        text-align: right;\n",
       "    }\n",
       "</style>\n",
       "<table border=\"1\" class=\"dataframe\">\n",
       "  <thead>\n",
       "    <tr style=\"text-align: right;\">\n",
       "      <th></th>\n",
       "      <th>lags</th>\n",
       "      <th>params</th>\n",
       "      <th>mean_squared_error</th>\n",
       "      <th>max_depth</th>\n",
       "      <th>n_estimators</th>\n",
       "    </tr>\n",
       "  </thead>\n",
       "  <tbody>\n",
       "    <tr>\n",
       "      <th>0</th>\n",
       "      <td>[1, 2]</td>\n",
       "      <td>{'max_depth': 3, 'n_estimators': 100}</td>\n",
       "      <td>0.085644</td>\n",
       "      <td>3</td>\n",
       "      <td>100</td>\n",
       "    </tr>\n",
       "    <tr>\n",
       "      <th>2</th>\n",
       "      <td>[1, 2]</td>\n",
       "      <td>{'max_depth': 5, 'n_estimators': 100}</td>\n",
       "      <td>0.085644</td>\n",
       "      <td>5</td>\n",
       "      <td>100</td>\n",
       "    </tr>\n",
       "    <tr>\n",
       "      <th>4</th>\n",
       "      <td>[1, 2]</td>\n",
       "      <td>{'max_depth': 10, 'n_estimators': 100}</td>\n",
       "      <td>0.085644</td>\n",
       "      <td>10</td>\n",
       "      <td>100</td>\n",
       "    </tr>\n",
       "    <tr>\n",
       "      <th>1</th>\n",
       "      <td>[1, 2]</td>\n",
       "      <td>{'max_depth': 3, 'n_estimators': 500}</td>\n",
       "      <td>0.086516</td>\n",
       "      <td>3</td>\n",
       "      <td>500</td>\n",
       "    </tr>\n",
       "    <tr>\n",
       "      <th>3</th>\n",
       "      <td>[1, 2]</td>\n",
       "      <td>{'max_depth': 5, 'n_estimators': 500}</td>\n",
       "      <td>0.086516</td>\n",
       "      <td>5</td>\n",
       "      <td>500</td>\n",
       "    </tr>\n",
       "    <tr>\n",
       "      <th>5</th>\n",
       "      <td>[1, 2]</td>\n",
       "      <td>{'max_depth': 10, 'n_estimators': 500}</td>\n",
       "      <td>0.086516</td>\n",
       "      <td>10</td>\n",
       "      <td>500</td>\n",
       "    </tr>\n",
       "    <tr>\n",
       "      <th>6</th>\n",
       "      <td>[1, 2, 3, 4]</td>\n",
       "      <td>{'max_depth': 3, 'n_estimators': 100}</td>\n",
       "      <td>0.131557</td>\n",
       "      <td>3</td>\n",
       "      <td>100</td>\n",
       "    </tr>\n",
       "    <tr>\n",
       "      <th>8</th>\n",
       "      <td>[1, 2, 3, 4]</td>\n",
       "      <td>{'max_depth': 5, 'n_estimators': 100}</td>\n",
       "      <td>0.131557</td>\n",
       "      <td>5</td>\n",
       "      <td>100</td>\n",
       "    </tr>\n",
       "    <tr>\n",
       "      <th>10</th>\n",
       "      <td>[1, 2, 3, 4]</td>\n",
       "      <td>{'max_depth': 10, 'n_estimators': 100}</td>\n",
       "      <td>0.131557</td>\n",
       "      <td>10</td>\n",
       "      <td>100</td>\n",
       "    </tr>\n",
       "    <tr>\n",
       "      <th>7</th>\n",
       "      <td>[1, 2, 3, 4]</td>\n",
       "      <td>{'max_depth': 3, 'n_estimators': 500}</td>\n",
       "      <td>0.132973</td>\n",
       "      <td>3</td>\n",
       "      <td>500</td>\n",
       "    </tr>\n",
       "    <tr>\n",
       "      <th>9</th>\n",
       "      <td>[1, 2, 3, 4]</td>\n",
       "      <td>{'max_depth': 5, 'n_estimators': 500}</td>\n",
       "      <td>0.132973</td>\n",
       "      <td>5</td>\n",
       "      <td>500</td>\n",
       "    </tr>\n",
       "    <tr>\n",
       "      <th>11</th>\n",
       "      <td>[1, 2, 3, 4]</td>\n",
       "      <td>{'max_depth': 10, 'n_estimators': 500}</td>\n",
       "      <td>0.132973</td>\n",
       "      <td>10</td>\n",
       "      <td>500</td>\n",
       "    </tr>\n",
       "  </tbody>\n",
       "</table>\n",
       "</div>"
      ],
      "text/plain": [
       "            lags                                  params  mean_squared_error  \\\n",
       "0         [1, 2]   {'max_depth': 3, 'n_estimators': 100}            0.085644   \n",
       "2         [1, 2]   {'max_depth': 5, 'n_estimators': 100}            0.085644   \n",
       "4         [1, 2]  {'max_depth': 10, 'n_estimators': 100}            0.085644   \n",
       "1         [1, 2]   {'max_depth': 3, 'n_estimators': 500}            0.086516   \n",
       "3         [1, 2]   {'max_depth': 5, 'n_estimators': 500}            0.086516   \n",
       "5         [1, 2]  {'max_depth': 10, 'n_estimators': 500}            0.086516   \n",
       "6   [1, 2, 3, 4]   {'max_depth': 3, 'n_estimators': 100}            0.131557   \n",
       "8   [1, 2, 3, 4]   {'max_depth': 5, 'n_estimators': 100}            0.131557   \n",
       "10  [1, 2, 3, 4]  {'max_depth': 10, 'n_estimators': 100}            0.131557   \n",
       "7   [1, 2, 3, 4]   {'max_depth': 3, 'n_estimators': 500}            0.132973   \n",
       "9   [1, 2, 3, 4]   {'max_depth': 5, 'n_estimators': 500}            0.132973   \n",
       "11  [1, 2, 3, 4]  {'max_depth': 10, 'n_estimators': 500}            0.132973   \n",
       "\n",
       "    max_depth  n_estimators  \n",
       "0           3           100  \n",
       "2           5           100  \n",
       "4          10           100  \n",
       "1           3           500  \n",
       "3           5           500  \n",
       "5          10           500  \n",
       "6           3           100  \n",
       "8           5           100  \n",
       "10         10           100  \n",
       "7           3           500  \n",
       "9           5           500  \n",
       "11         10           500  "
      ]
     },
     "execution_count": 36,
     "metadata": {},
     "output_type": "execute_result"
    }
   ],
   "source": [
    "# Resultados Grid Search\n",
    "# ==============================================================================\n",
    "resultados_grid"
   ]
  },
  {
   "cell_type": "markdown",
   "id": "e8f03da5-555f-4d43-8951-4ec7c14bacf9",
   "metadata": {},
   "source": [
    "### Modelo Final"
   ]
  },
  {
   "cell_type": "code",
   "execution_count": 37,
   "id": "f9e27d7f-41c7-468d-81e6-6c14eba13be6",
   "metadata": {},
   "outputs": [],
   "source": [
    "# Crear y entrenar forecaster con mejores hiperparámetros\n",
    "# ==============================================================================\n",
    "regressor = RandomForestRegressor(max_depth=3, n_estimators=500, random_state=123)\n",
    "forecaster = ForecasterAutoreg(\n",
    "                regressor = regressor,\n",
    "                lags      = 8\n",
    "             )\n",
    "\n",
    "forecaster.fit(y=datos_train['y'])"
   ]
  },
  {
   "cell_type": "code",
   "execution_count": 38,
   "id": "d5b0c4b5-f495-4521-99e9-1bbe231fad90",
   "metadata": {},
   "outputs": [],
   "source": [
    "# Predicciones\n",
    "# ==============================================================================\n",
    "predicciones = forecaster.predict(steps=steps)"
   ]
  },
  {
   "cell_type": "code",
   "execution_count": 39,
   "id": "5cb8a506-2590-4b7c-b7d0-4967219e042f",
   "metadata": {},
   "outputs": [
    {
     "data": {
      "image/png": "[encoded data removed]",
      "text/plain": [
       "<Figure size 700x300 with 1 Axes>"
      ]
     },
     "metadata": {},
     "output_type": "display_data"
    }
   ],
   "source": [
    "# Gráfico\n",
    "# ==============================================================================\n",
    "fig, ax = plt.subplots(figsize=(7, 3))\n",
    "datos_train['y'].plot(ax=ax, label='train')\n",
    "datos_test['y'].plot(ax=ax, label='test')\n",
    "predicciones.plot(ax=ax, label='predicciones')\n",
    "ax.legend();"
   ]
  },
  {
   "cell_type": "code",
   "execution_count": 40,
   "id": "17474f33-89d4-4669-a312-9e79fcb79d72",
   "metadata": {},
   "outputs": [
    {
     "name": "stdout",
     "output_type": "stream",
     "text": [
      "Error de test (mse) 0.7120670560946567\n"
     ]
    }
   ],
   "source": [
    "# Error de test\n",
    "# ==============================================================================\n",
    "error_mse = mean_squared_error(\n",
    "                y_true = datos_test['y'],\n",
    "                y_pred = predicciones\n",
    "            )\n",
    "\n",
    "print(f\"Error de test (mse) {error_mse}\")"
   ]
  },
  {
   "cell_type": "code",
   "execution_count": 41,
   "id": "ad81404b-b400-46f0-98d7-d3f33b5452e8",
   "metadata": {},
   "outputs": [
    {
     "ename": "NameError",
     "evalue": "name 'Detener' is not defined",
     "output_type": "error",
     "traceback": [
      "\u001b[1;31m---------------------------------------------------------------------------\u001b[0m",
      "\u001b[1;31mNameError\u001b[0m                                 Traceback (most recent call last)",
      "Cell \u001b[1;32mIn[41], line 1\u001b[0m\n\u001b[1;32m----> 1\u001b[0m \u001b[43mDetener\u001b[49m\n",
      "\u001b[1;31mNameError\u001b[0m: name 'Detener' is not defined"
     ]
    }
   ],
   "source": [
    "Detener"
   ]
  },
  {
   "cell_type": "markdown",
   "id": "f2c822d8-d338-4c8f-bfd9-b90a0ae8ac4f",
   "metadata": {},
   "source": [
    "### Backtesting"
   ]
  },
  {
   "cell_type": "code",
   "execution_count": null,
   "id": "637a2566-ef95-48f8-b4b2-cb8f9bf911ac",
   "metadata": {},
   "outputs": [],
   "source": [
    "# Backtesting\n",
    "# ==============================================================================\n",
    "steps = 6\n",
    "n_backtesting = 6*3 # Se separan para el backtest los últimos 3 años\n",
    "\n",
    "metrica, predicciones_backtest = backtesting_forecaster(\n",
    "                                    forecaster         = forecaster,\n",
    "                                    y                  = datos['y'],\n",
    "                                    initial_train_size = len(datos) - n_backtesting,\n",
    "                                    fixed_train_size   = False,\n",
    "                                    steps              = steps,\n",
    "                                    refit              = True,\n",
    "                                    metric             = 'mean_squared_error',\n",
    "                                    verbose            = True\n",
    "                                 )\n",
    "\n",
    "print(f\"Error de backtest: {metrica}\")"
   ]
  },
  {
   "cell_type": "code",
   "execution_count": null,
   "id": "17694e7a-0186-4b04-a4d4-8b429c67922d",
   "metadata": {},
   "outputs": [],
   "source": [
    "fig, ax = plt.subplots(figsize=(7, 3))\n",
    "datos.loc[predicciones_backtest.index, 'y'].plot(ax=ax, label='test')\n",
    "predicciones_backtest.plot(ax=ax, label='predicciones')\n",
    "ax.legend();"
   ]
  },
  {
   "cell_type": "markdown",
   "id": "b3b1f2d7-b77c-456b-a898-1ff197f062bc",
   "metadata": {},
   "source": [
    "### Importancia predictores\n"
   ]
  },
  {
   "cell_type": "code",
   "execution_count": null,
   "id": "43b83259-ade0-4ba7-a0e0-00583d6115fa",
   "metadata": {},
   "outputs": [],
   "source": [
    "# Importancia predictores\n",
    "# ==============================================================================\n",
    "impotancia = forecaster.get_feature_importance()\n",
    "impotancia"
   ]
  },
  {
   "cell_type": "markdown",
   "id": "d7ba4c5b-688c-445d-ba69-5af2837d96ac",
   "metadata": {},
   "source": [
    "# Forecasting autorregresivo recursivo con variables exógenas"
   ]
  },
  {
   "cell_type": "markdown",
   "id": "50aa2e00-f4c8-4258-bf0d-05a1f440fbe9",
   "metadata": {},
   "source": [
    "### Datos"
   ]
  },
  {
   "cell_type": "code",
   "execution_count": null,
   "id": "b480e974-77bb-4c15-aebf-f430a873abce",
   "metadata": {},
   "outputs": [],
   "source": [
    "# Descarga de datos\n",
    "# ==============================================================================\n",
    "url = 'https://raw.githubusercontent.com/JoaquinAmatRodrigo/skforecast/master/data/h2o_exog.csv'\n",
    "datos = pd.read_csv(url, sep=',')\n",
    "\n",
    "# Preparación del dato\n",
    "# ==============================================================================\n",
    "datos['fecha'] = pd.to_datetime(datos['fecha'], format='%Y/%m/%d')\n",
    "datos = datos.set_index('fecha')\n",
    "datos = datos.asfreq('MS')\n",
    "datos = datos.sort_index()\n",
    "\n",
    "fig, ax = plt.subplots(figsize=(7, 3))\n",
    "datos['y'].plot(ax=ax, label='y')\n",
    "datos['exog_1'].plot(ax=ax, label='variable exógena')\n",
    "ax.legend();"
   ]
  },
  {
   "cell_type": "code",
   "execution_count": null,
   "id": "9dd55527-3391-42ea-b211-93e1673ffb91",
   "metadata": {},
   "outputs": [],
   "source": [
    "# Separación datos train-test\n",
    "# ==============================================================================\n",
    "steps = 36\n",
    "datos_train = datos[:-steps]\n",
    "datos_test  = datos[-steps:]\n",
    "\n",
    "print(f\"Fechas train : {datos_train.index.min()} --- {datos_train.index.max()}  (n={len(datos_train)})\")\n",
    "print(f\"Fechas test  : {datos_test.index.min()} --- {datos_test.index.max()}  (n={len(datos_test)})\")"
   ]
  },
  {
   "cell_type": "markdown",
   "id": "0d7938ac-27ef-45d9-acb0-e8d452de09aa",
   "metadata": {},
   "source": [
    "### ForecasterAutoreg"
   ]
  },
  {
   "cell_type": "code",
   "execution_count": null,
   "id": "7e157e34-c89f-42ff-86d1-041b05eaeed3",
   "metadata": {},
   "outputs": [],
   "source": [
    "# Crear y entrenar forecaster\n",
    "# ==============================================================================\n",
    "forecaster = ForecasterAutoreg(\n",
    "                regressor = RandomForestRegressor(random_state=123),\n",
    "                lags      = 8\n",
    "             )\n",
    "\n",
    "forecaster.fit(y=datos_train['y'], exog=datos_train['exog_1'])\n",
    "forecaster"
   ]
  },
  {
   "cell_type": "markdown",
   "id": "89c1e6c9-4d26-4e2e-93e9-373504528743",
   "metadata": {},
   "source": [
    "### Predicciones"
   ]
  },
  {
   "cell_type": "code",
   "execution_count": null,
   "id": "bfbe6324-7464-4659-a321-4926745225b2",
   "metadata": {},
   "outputs": [],
   "source": [
    "# Predicciones\n",
    "# ==============================================================================\n",
    "predicciones = forecaster.predict(steps=steps, exog=datos_test['exog_1'])"
   ]
  },
  {
   "cell_type": "code",
   "execution_count": null,
   "id": "eb0f22c2-4200-4e99-ba85-28df23de8f33",
   "metadata": {},
   "outputs": [],
   "source": [
    "# Gráfico\n",
    "# ==============================================================================\n",
    "fig, ax=plt.subplots(figsize=(9, 4))\n",
    "datos_train['y'].plot(ax=ax, label='train')\n",
    "datos_test['y'].plot(ax=ax, label='test')\n",
    "predicciones.plot(ax=ax, label='predicciones')\n",
    "ax.legend();"
   ]
  },
  {
   "cell_type": "markdown",
   "id": "c424a78b-dd23-4507-a8ea-2a93fb8be7f2",
   "metadata": {},
   "source": [
    "### Error de las predicciones en el conjunto de test"
   ]
  },
  {
   "cell_type": "code",
   "execution_count": null,
   "id": "ea364b84-6c61-4f54-b569-f48b68bd11b2",
   "metadata": {},
   "outputs": [],
   "source": [
    "# Error test\n",
    "# ==============================================================================\n",
    "error_mse = mean_squared_error(\n",
    "                y_true = datos_test['y'],\n",
    "                y_pred = predicciones\n",
    "            )\n",
    "\n",
    "print(f\"Error de test (mse): {error_mse}\")"
   ]
  },
  {
   "cell_type": "markdown",
   "id": "9a7ff2b6-8d52-4653-9e68-d1876084283c",
   "metadata": {},
   "source": [
    "### Tuning del modelo"
   ]
  },
  {
   "cell_type": "code",
   "execution_count": null,
   "id": "eb6deba5-9149-4542-a121-04a28e247a82",
   "metadata": {},
   "outputs": [],
   "source": [
    "# Grid search de hiperparámetros\n",
    "# ==============================================================================\n",
    "steps = 36\n",
    "forecaster = ForecasterAutoreg(\n",
    "                regressor = RandomForestRegressor(random_state=123),\n",
    "                lags      = 12 # Este valor será remplazado en el grid search\n",
    "             )\n",
    "\n",
    "lags_grid = [5, 12, 20]\n",
    "\n",
    "param_grid = {'n_estimators': [50, 100, 500],\n",
    "              'max_depth': [3, 5, 10]}\n",
    "\n",
    "resultados_grid = grid_search_forecaster(\n",
    "                        forecaster         = forecaster,\n",
    "                        y                  = datos_train['y'],\n",
    "                        exog               = datos_train['exog_1'],\n",
    "                        param_grid         = param_grid,\n",
    "                        lags_grid          = lags_grid,\n",
    "                        steps              = steps,\n",
    "                        refit              = True,\n",
    "                        metric             = 'mean_squared_error',\n",
    "                        initial_train_size = int(len(datos_train)*0.5),\n",
    "                        fixed_train_size   = False,\n",
    "                        return_best        = True,\n",
    "                        verbose            = False\n",
    "                    )"
   ]
  },
  {
   "cell_type": "code",
   "execution_count": null,
   "id": "a8f9f7d3-3a37-4199-ae45-e39d066b8adf",
   "metadata": {},
   "outputs": [],
   "source": [
    "# Resultados Grid Search\n",
    "# ==============================================================================\n",
    "resultados_grid.head()"
   ]
  },
  {
   "cell_type": "markdown",
   "id": "4f8401c2-16b6-4f28-a40e-83758853b5ab",
   "metadata": {},
   "source": [
    "### Modelo final"
   ]
  },
  {
   "cell_type": "code",
   "execution_count": null,
   "id": "a6521bb3-da30-40fa-b7f5-c6aab869436b",
   "metadata": {},
   "outputs": [],
   "source": [
    "# Predicciones\n",
    "# ==============================================================================\n",
    "predicciones = forecaster.predict(steps=steps, exog=datos_test['exog_1'])\n",
    "\n",
    "# Gráfico\n",
    "# ==============================================================================\n",
    "fig, ax = plt.subplots(figsize=(7, 3))\n",
    "datos_train['y'].plot(ax=ax, label='train')\n",
    "datos_test['y'].plot(ax=ax, label='test')\n",
    "predicciones.plot(ax=ax, label='predicciones')\n",
    "ax.legend();"
   ]
  },
  {
   "cell_type": "code",
   "execution_count": null,
   "id": "04c2480e-4de4-4190-8a9f-cc9a18fa51fb",
   "metadata": {},
   "outputs": [],
   "source": [
    "# Error test\n",
    "# ==============================================================================\n",
    "error_mse = mean_squared_error(y_true = datos_test['y'], y_pred = predicciones)\n",
    "print(f\"Error de test (mse) {error_mse}\")"
   ]
  },
  {
   "cell_type": "code",
   "execution_count": null,
   "id": "b30dfda6-c28c-44c4-bec8-801a7343cf61",
   "metadata": {},
   "outputs": [],
   "source": []
  },
  {
   "cell_type": "code",
   "execution_count": null,
   "id": "f3d14579-f474-4871-ae78-138e32449b5f",
   "metadata": {},
   "outputs": [],
   "source": []
  }
 ],
 "metadata": {
  "kernelspec": {
   "display_name": "Python 3 (ipykernel)",
   "language": "python",
   "name": "python3"
  },
  "language_info": {
   "codemirror_mode": {
    "name": "ipython",
    "version": 3
   },
   "file_extension": ".py",
   "mimetype": "text/x-python",
   "name": "python",
   "nbconvert_exporter": "python",
   "pygments_lexer": "ipython3",
   "version": "3.10.9"
  }
 },
 "nbformat": 4,
 "nbformat_minor": 5
}
